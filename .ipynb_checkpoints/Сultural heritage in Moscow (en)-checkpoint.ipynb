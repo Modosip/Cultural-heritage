{
 "cells": [
  {
   "cell_type": "markdown",
   "metadata": {},
   "source": [
    "![Coat of Arms of Moscow](https://upload.wikimedia.org/wikipedia/commons/thumb/b/bb/Coat_of_Arms_of_Moscow.svg/202px-Coat_of_Arms_of_Moscow.svg.png \"Coat of Arms of Moscow\")\n",
    "# Сultural heritage in Moscow \n",
    "## Introduction\n",
    "The purpose of this project, I chose the districts of [Moscow, Russia](https://en.wikipedia.org/wiki/Moscow 'Moscow, Russia'). The choice is not accidental - I was born  and live in here.  \n",
    "\n",
    "[The city was founded in 1147](https://en.wikipedia.org/wiki/History_of_Moscow \"History of Moscow\") by Yuri Dolgoruky, and has a large number of cultural heritage sites on its territory. The whole city is divided into districts, which in turn are divided into districts and settlements ([125 districts and 21 settlements](https://en.wikipedia.org/wiki/Administrative_divisions_of_Moscow)).\n",
    "The analysis of districts and data on objects of cultural heritage is interesting in the search for patterns and is one of the stages in the analysis of the entire city. Comparing other data sets, we can assess the level of development of areas in different directions: the availability of the necessary infrastructure (shops, household services to the population), cultural and development objects (libraries, theaters), recreation areas (parks, recreation areas with families), etc.\n",
    "#### Cultural Heritage Sites in Moscow (CHS -  Cultural Heritage Site)\n",
    "On the territory of the city of Moscow there are more than 8000 objects under state protection.\n",
    "The largest number of Objects is concentrated in the Central Administrative District.\n",
    "On the territory of the city of Moscow there are 3 objects of cultural heritage included in the UNESCO World Cultural and Natural Heritage List:\n",
    "* Kremlin ensemble and Red Square\n",
    "* Ascension Church in Kolomenskoye\n",
    "* Ensemble of the Novodevichy Convent\n",
    "\n",
    "### Data Analysis Objectives\n",
    "\n",
    "In this project, I will analyze the districts of the city regarding cultural heritage sites:\n",
    "1. Classification of CHS according to their properties. Data visualization on a map of Moscow\n",
    "2. Classification of city districts according to their cultural heritage objects\n",
    "3. Obtaining infrastructure data within walking distance and creating a new classification of Windows\n",
    "4. Re-classification of districts, but according to infrastructure features\n",
    "5. Let us analyze the ratio of the number of objects of cultural heritage and its relation to the average cost of an apartment\n",
    "\n",
    "The information obtained may be of interest to people interested in the history of the city, companies involved in real estate transactions in the capital, municipal authorities."
   ]
  },
  {
   "cell_type": "markdown",
   "metadata": {},
   "source": [
    "## Data\n",
    "For this project, the following data will be needed:\n",
    "### 1 Cultural Heritage Site Dataset \n",
    "[\"Objects of cultural heritage of the city of Moscow\"](https://data.mos.ru/opendata/7705021556-obekty-kulturnogo-naslediya-i-vyyavlennye-obekty-kulturnogo-naslediya/description?versionNumber=6&releaseNumber=19) contains information about objects under state protection.  \n",
    "Fields for data selection (short descriptive format):\n",
    "* Object Name\n",
    "* The name of the historical ensemble - when several objects enter the same category\n",
    "* District - district of location of OKN\n",
    "* District - district where the OKN is located\n",
    "* Object category\n",
    "* Security status\n",
    "* Type of geometry on the map\n",
    "* Geo-coordinates\n",
    "* Auxiliary fields\n",
    "\n",
    "#### 2 Foursquare Service Data\n",
    "To obtain the categories of infrastructure that surrounds our facilities, we need data from the service [Foursquare.com](https://foursquare.com/developers/apps)  \n",
    "I will be frank, if it were not for the condition that Foursquare service must be present in solving the problem, the choice would be on a completely different data source. Foursquare service has a very weak information flow and its heyday ended 3-4 years ago - this is true for Moscow. Nevertheless, as a test case, it will suit us. And in the next version, I'll replace it with a more current source.  \n",
    "#### 3 Data on the average cost of apartments in districts\n",
    "There are a lot of options on the Internet. My choice is the source from the site [www.rlt24.com](http://www.rlt24.com/rating/moscow/district) due to the presence of complete information on the districts and convenient parsing of information. Changing the source is quite simple.\n",
    "#### 4 Euro to ruble exchange rate\n",
    "[Auxiliary source](https://kurs.vip/currencies/cbr/eur/ \"kurs.vip\") to recalculate the cost per square meter of real estate to the value in euros at the date the information on the cost of the apartment was provided."
   ]
  },
  {
   "cell_type": "code",
   "execution_count": null,
   "metadata": {},
   "outputs": [],
   "source": []
  }
 ],
 "metadata": {
  "kernelspec": {
   "display_name": "Python 3",
   "language": "python",
   "name": "python3"
  },
  "language_info": {
   "codemirror_mode": {
    "name": "ipython",
    "version": 3
   },
   "file_extension": ".py",
   "mimetype": "text/x-python",
   "name": "python",
   "nbconvert_exporter": "python",
   "pygments_lexer": "ipython3",
   "version": "3.7.6"
  }
 },
 "nbformat": 4,
 "nbformat_minor": 4
}

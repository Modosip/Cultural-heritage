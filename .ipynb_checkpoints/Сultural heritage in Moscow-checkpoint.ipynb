{
 "cells": [
  {
   "cell_type": "markdown",
   "metadata": {},
   "source": [
    "# Сultural heritage in Moscow\n",
    "Мой знакомый спросил меня - как по твоему, какие районы города наиболее интересные с точки зрения объектов культурного наследия и при этом имеющин не самые высокие цены на квартиры?\n",
    "В данном проекте мы попытаемся ответить на этот вопрос: оценить и классифицировать объекты культурного наследия (далее ОКН) в г.Москве, Россия. Определим наиболее интересные районы города с точки зрения оценок пользователей сервиса Foursquare и соотнесем эти данные со средней стоимостью квартир в том или  инном районе.\n",
    "### Современная ситуация в Москве\n",
    "На территории города Москвы расположено более 7 500 объектов, находящихся под государственной охраной.\n",
    "Наибольшее число Объектов сконцентрировано в Центральном административном округе и самые высокие цены на недвижемость.\n",
    "### А знаете ли вы, что?\n",
    "На территории города Москвы расположено 3 объекта культурного наследия, включенных в Список всемирного культурного и природного наследия ЮНЕСКО:\n",
    "* Ансамбль Кремля и Красная площадь\n",
    "* Церковь Вознесения в Коломенском\n",
    "* Ансамбль Новодевичьего монастыря"
   ]
  },
  {
   "cell_type": "markdown",
   "metadata": {},
   "source": [
    "### Набор данных по ОКН находится на портале открытых данных правительства Москвы\n",
    "Набор данных \"Объекты культурного наследия города Москвы\" содержит информацию об объектах, находящихся под государственной охраной, а именно: объектах культурного наследия, включенных в единый государственный реестр объектов культурного наследия (памятников истории и культуры) народов Российской Федерации и выявленных объектах культурного наследия.\n",
    "#### Описание\n",
    "https://data.mos.ru/opendata/7705021556-obekty-kulturnogo-naslediya-i-vyyavlennye-obekty-kulturnogo-naslediya/description?versionNumber=6&releaseNumber=19\n",
    "#### Папорт\n",
    "https://data.mos.ru/opendata/7705021556-obekty-kulturnogo-naslediya-i-vyyavlennye-obekty-kulturnogo-naslediya/passport?versionNumber=6&releaseNumber=19\n",
    "#### Вход для разработчиков для получения ключа и чтения документации\n",
    "https://apidata.mos.ru/\n",
    "#### Структура данных\n",
    "https://data.mos.ru/apiproxy/opendata/7705021556-obekty-kulturnogo-naslediya-i-vyyavlennye-obekty-kulturnogo-naslediya/structure-20200310(vs6).json"
   ]
  },
  {
   "cell_type": "markdown",
   "metadata": {},
   "source": [
    "### Данные по стоимости недвижимости в районах"
   ]
  },
  {
   "cell_type": "code",
   "execution_count": 2,
   "metadata": {
    "scrolled": true
   },
   "outputs": [
    {
     "name": "stdout",
     "output_type": "stream",
     "text": [
      "Collecting package metadata (current_repodata.json): ...working... done\n",
      "Solving environment: ...working... done\n",
      "\n",
      "# All requested packages already installed.\n",
      "\n",
      "Done!\n"
     ]
    }
   ],
   "source": [
    "!conda install -c conda-forge folium=0.5.0 --yes\n",
    "# !conda install -c conda-forge geopy --yes\n",
    "# !conda update -n base -c defaults conda\n",
    "import pandas as pd\n",
    "import numpy as np\n",
    "pd.set_option('display.max_columns', 100)\n",
    "pd.set_option('display.max_rows',500)\n",
    "import json\n",
    "import requests #\n",
    "from pandas import json_normalize\n",
    "import matplotlib.cm as cm\n",
    "import matplotlib.colors as colors\n",
    "from sklearn.cluster import KMeans\n",
    "from geopy.geocoders import Nominatim\n",
    "import folium # map rendering library\n",
    "import lxml\n",
    "import time\n",
    "print('Done!')"
   ]
  },
  {
   "cell_type": "code",
   "execution_count": 3,
   "metadata": {},
   "outputs": [],
   "source": [
    "url='https://data.mos.ru/apiproxy/opendata/7705021556-obekty-kulturnogo-naslediya-i-vyyavlennye-obekty-kulturnogo-naslediya/structure-20200310(vs6).json'\n",
    "results = requests.get(url).json()"
   ]
  },
  {
   "cell_type": "code",
   "execution_count": 4,
   "metadata": {
    "scrolled": true
   },
   "outputs": [
    {
     "name": "stdout",
     "output_type": "stream",
     "text": [
      "{'Id': 530, 'IdentificationNumber': '7705021556-Obektykulturnogonaslediya', 'CategoryId': 5, 'CategoryCaption': 'Культура', 'DepartmentId': 7, 'DepartmentCaption': 'Департамент культурного наследия города Москвы', 'Caption': 'Объекты культурного наследия', 'Description': 'Объекты культурного наследия и выявленные объекты культурного наследия, расположенные в пределах установленных границ города Москвы.', 'FullDescription': '<p class=\"MsoNormal\"><span style=\"font-size:9.0pt;\\nfont-family:&quot;Tahoma&quot;,&quot;sans-serif&quot;\">Набор данных \"Объекты культурного\\nнаследия города Москвы\" содержит информацию об объектах, находящихся под\\nгосударственной охраной, а именно: объектах культурного наследия, включенных в\\nединый государственный реестр объектов культурного наследия (памятников истории\\nи культуры) народов Российской Федерации и выявленных объектах культурного\\nнаследия.<o:p></o:p></span></p><p class=\"MsoNormal\"><span style=\"font-size:9.0pt;\\nfont-family:&quot;Tahoma&quot;,&quot;sans-serif&quot;\">В соответствии с п. 2 ст. 20 Федерального\\nзакона от 25 июня <st1:metricconverter productid=\"2002 г\" w:st=\"on\">2002 г</st1:metricconverter>.\\n№ 73-ФЗ \"Об объектах культурного наследия (памятниках истории и культуры)\\nнародов Российской Федерации\" в каталоге представлена следующая\\nинформация: <o:p></o:p></span></p><p class=\"MsoNormal\"><span style=\"font-size:9.0pt;font-family:&quot;Tahoma&quot;,&quot;sans-serif&quot;\">сведения\\nо наименовании объекта;<o:p></o:p></span></p><p class=\"MsoNormal\"><span style=\"font-size:9.0pt;font-family:&quot;Tahoma&quot;,&quot;sans-serif&quot;\">сведения\\nо времени возникновения или дате создания объекта, датах основных изменений\\n(перестроек) данного объекта и (или) датах связанных с ним исторических\\nсобытий;<o:p></o:p></span></p><p class=\"MsoNormal\"><span style=\"font-size:9.0pt;font-family:&quot;Tahoma&quot;,&quot;sans-serif&quot;\">сведения\\nо местонахождении объекта (адрес объекта или при его отсутствии описание\\nместоположения объекта);<o:p></o:p></span></p><p class=\"MsoNormal\"><span style=\"font-size:9.0pt;font-family:&quot;Tahoma&quot;,&quot;sans-serif&quot;\">сведения о категории\\nисторико-культурного значения объекта;<o:p></o:p></span></p><p class=\"MsoNormal\"><span style=\"font-size:9.0pt;font-family:&quot;Tahoma&quot;,&quot;sans-serif&quot;\">сведения\\nо виде объекта.<o:p></o:p></span></p><p class=\"MsoNormal\"><b><span style=\"font-size:9.0pt;font-family:&quot;Tahoma&quot;,&quot;sans-serif&quot;\">Современная ситуация\\nв России<o:p></o:p></span></b></p><p class=\"MsoNormal\"><span style=\"font-size:9.0pt;font-family:&quot;Tahoma&quot;,&quot;sans-serif&quot;\">На\\nтерритории России расположено более 146 000 объектов культурного наследия.<o:p></o:p></span></p><p class=\"MsoNormal\"><b><span style=\"font-size:9.0pt;font-family:&quot;Tahoma&quot;,&quot;sans-serif&quot;\">Современная ситуация\\nв Москве<o:p></o:p></span></b></p><p class=\"MsoNormal\"><span style=\"font-size:9.0pt;font-family:&quot;Tahoma&quot;,&quot;sans-serif&quot;\">На\\nтерритории города Москвы расположено более 7 500 объектов, находящихся под\\nгосударственной охраной.<o:p></o:p></span></p><p class=\"MsoNormal\"><span style=\"font-size:9.0pt;font-family:&quot;Tahoma&quot;,&quot;sans-serif&quot;\">Наибольшее\\nчисло Объектов сконцентрировано в Центральном административном округе.<o:p></o:p></span></p><p class=\"MsoNormal\"><b><span style=\"font-size:9.0pt;font-family:&quot;Tahoma&quot;,&quot;sans-serif&quot;\">А знаете ли вы, что?<o:p></o:p></span></b></p><p class=\"MsoNormal\"><span style=\"font-size:9.0pt;font-family:&quot;Tahoma&quot;,&quot;sans-serif&quot;\">На\\nтерритории города Москвы расположено 3 объекта культурного наследия, включенных\\nв Список всемирного культурного и природного наследия ЮНЕСКО:<o:p></o:p></span></p><p class=\"MsoNormal\"><span style=\"font-size:9.0pt;font-family:&quot;Tahoma&quot;,&quot;sans-serif&quot;\">Ансамбль\\nКремля и Красная площадь;<o:p></o:p></span></p><p class=\"MsoNormal\"><span style=\"font-size:9.0pt;font-family:&quot;Tahoma&quot;,&quot;sans-serif&quot;\">Церковь\\nВознесения в Коломенском;<o:p></o:p></span></p><p class=\"MsoNormal\"><span style=\"font-size:9.0pt;font-family:&quot;Tahoma&quot;,&quot;sans-serif&quot;\">Ансамбль\\nНоводевичьего монастыря.<o:p></o:p></span></p><p class=\"MsoNormal\">\\n\\n\\n\\n\\n\\n\\n\\n\\n\\n\\n\\n\\n\\n\\n\\n\\n\\n\\n\\n\\n\\n\\n\\n\\n\\n\\n\\n\\n\\n\\n\\n\\n\\n</p><p class=\"MsoNormal\"><span style=\"font-size:9.0pt;font-family:&quot;Tahoma&quot;,&quot;sans-serif&quot;;\\nmso-fareast-font-family:&quot;Times New Roman&quot;;mso-fareast-theme-font:minor-fareast\">Материал\\nподготовлен на основе информации https://data.mos.ru, http://dkn.mos.ru<o:p></o:p></span></p>', 'Keywords': 'культура, культурное наследие, памятники архитектуры, памятник, наследие, наследия', 'ContainsGeodata': True, 'VersionNumber': '6.19', 'VersionDate': '19.05.2020', 'ItemsCount': 8317, 'Columns': [{'Name': 'ObjectNameOnDoc', 'Caption': 'Наименование объекта по документам', 'Visible': True, 'Type': 'STRING', 'SubColumns': None}, {'Name': 'ObjectName', 'Caption': 'Общепринятое наименование объекта', 'Visible': False, 'Type': 'STRING', 'SubColumns': None}, {'Name': 'EnsembleNameOnDoc', 'Caption': 'Наименование ансамбля по документам', 'Visible': True, 'Type': 'STRING', 'SubColumns': None}, {'Name': 'EnsembleName', 'Caption': 'Общепринятое наименование ансамбля', 'Visible': False, 'Type': 'STRING', 'SubColumns': None}, {'Name': 'AdmArea', 'Caption': 'Административный округ', 'Visible': True, 'Type': 'DICTIONARY', 'SubColumns': None}, {'Name': 'District', 'Caption': 'Район', 'Visible': True, 'Type': 'DICTIONARY', 'SubColumns': None}, {'Name': 'Location', 'Caption': 'Описание местоположения', 'Visible': False, 'Type': 'CATALOG', 'SubColumns': [{'Name': 'Address', 'Caption': 'Адрес/Адресный ориентир/Местоположение', 'Visible': True, 'Type': 'STRING', 'SubColumns': None}, {'Name': 'UNOM', 'Caption': 'УНОМ', 'Visible': True, 'Type': 'INTEGER', 'SubColumns': None}, {'Name': 'KAD_CC', 'Caption': 'Кадастровый номер объекта капитального строительства', 'Visible': True, 'Type': 'STRING', 'SubColumns': None}]}, {'Name': 'SecurityStatus', 'Caption': 'Охранный статус', 'Visible': True, 'Type': 'DICTIONARY', 'SubColumns': None}, {'Name': 'Category', 'Caption': 'Категория объекта', 'Visible': True, 'Type': 'DICTIONARY', 'SubColumns': None}, {'Name': 'ObjectType', 'Caption': 'Тип объекта', 'Visible': True, 'Type': 'DICTIONARY', 'SubColumns': None}, {'Name': 'AISID', 'Caption': 'Идентификатор в АИС Мосгорнаследия', 'Visible': True, 'Type': 'STRING', 'SubColumns': None}, {'Name': 'global_id', 'Caption': 'global_id', 'Visible': False, 'Type': 'NUMBER', 'SubColumns': None}, {'Name': 'geoData', 'Caption': 'Геоданные', 'Visible': False, 'Type': 'CATALOG', 'SubColumns': [{'Name': 'type', 'Caption': 'Тип', 'Visible': False, 'Type': 'STRING', 'SubColumns': None}, {'Name': 'coordinates', 'Caption': 'Координаты', 'Visible': False, 'Type': 'CATALOG', 'SubColumns': None}]}]}\n"
     ]
    }
   ],
   "source": [
    "print(results)\n",
    "df_desc = json_normalize(results['Columns'])"
   ]
  },
  {
   "cell_type": "code",
   "execution_count": 29,
   "metadata": {},
   "outputs": [
    {
     "data": {
      "text/plain": [
       "0      ObjectNameOnDoc\n",
       "1           ObjectName\n",
       "2    EnsembleNameOnDoc\n",
       "3         EnsembleName\n",
       "4              AdmArea\n",
       "Name: Name, dtype: object"
      ]
     },
     "execution_count": 29,
     "metadata": {},
     "output_type": "execute_result"
    }
   ],
   "source": [
    "df_desc.Name.T.head()"
   ]
  },
  {
   "cell_type": "code",
   "execution_count": 59,
   "metadata": {},
   "outputs": [
    {
     "ename": "AttributeError",
     "evalue": "'Response' object has no attribute 'value'",
     "output_type": "error",
     "traceback": [
      "\u001b[1;31m---------------------------------------------------------------------------\u001b[0m",
      "\u001b[1;31mAttributeError\u001b[0m                            Traceback (most recent call last)",
      "\u001b[1;32m<ipython-input-59-8a6d24d8ea46>\u001b[0m in \u001b[0;36m<module>\u001b[1;34m\u001b[0m\n\u001b[0;32m      2\u001b[0m \u001b[0mresults\u001b[0m \u001b[1;33m=\u001b[0m \u001b[0mrequests\u001b[0m\u001b[1;33m.\u001b[0m\u001b[0mget\u001b[0m\u001b[1;33m(\u001b[0m\u001b[0murl\u001b[0m\u001b[1;33m)\u001b[0m\u001b[1;33m\u001b[0m\u001b[1;33m\u001b[0m\u001b[0m\n\u001b[0;32m      3\u001b[0m \u001b[1;32mif\u001b[0m \u001b[0mresults\u001b[0m\u001b[1;33m.\u001b[0m\u001b[0mok\u001b[0m\u001b[1;33m:\u001b[0m\u001b[1;33m\u001b[0m\u001b[1;33m\u001b[0m\u001b[0m\n\u001b[1;32m----> 4\u001b[1;33m     \u001b[0mprint\u001b[0m\u001b[1;33m(\u001b[0m\u001b[1;34m'Version API is :{}'\u001b[0m\u001b[1;33m.\u001b[0m\u001b[0mformat\u001b[0m\u001b[1;33m(\u001b[0m\u001b[0mresults\u001b[0m\u001b[1;33m.\u001b[0m\u001b[0mvalue\u001b[0m\u001b[1;33m)\u001b[0m\u001b[1;33m)\u001b[0m\u001b[1;33m\u001b[0m\u001b[1;33m\u001b[0m\u001b[0m\n\u001b[0m\u001b[0;32m      5\u001b[0m \u001b[1;32melse\u001b[0m\u001b[1;33m:\u001b[0m\u001b[1;33m\u001b[0m\u001b[1;33m\u001b[0m\u001b[0m\n\u001b[0;32m      6\u001b[0m     \u001b[0mprint\u001b[0m\u001b[1;33m(\u001b[0m\u001b[1;34m'\"Houston, we have a problem!'\u001b[0m\u001b[1;33m,\u001b[0m \u001b[0mresults\u001b[0m\u001b[1;33m)\u001b[0m\u001b[1;33m\u001b[0m\u001b[1;33m\u001b[0m\u001b[0m\n",
      "\u001b[1;31mAttributeError\u001b[0m: 'Response' object has no attribute 'value'"
     ]
    }
   ],
   "source": [
    "url ='https://apidata.mos.ru/version'\n",
    "results = requests.get(url)\n",
    "if results.ok:\n",
    "    print('Version API is :{}'.format(results.value))\n",
    "else:\n",
    "    print('\"Houston, we have a problem!', results)"
   ]
  },
  {
   "cell_type": "code",
   "execution_count": 46,
   "metadata": {},
   "outputs": [
    {
     "data": {
      "text/plain": [
       "'{\"Version\":1}'"
      ]
     },
     "execution_count": 46,
     "metadata": {},
     "output_type": "execute_result"
    }
   ],
   "source": [
    "results.text"
   ]
  },
  {
   "cell_type": "code",
   "execution_count": 41,
   "metadata": {},
   "outputs": [
    {
     "name": "stdout",
     "output_type": "stream",
     "text": [
      "Help on Response in module requests.models object:\n",
      "\n",
      "class Response(builtins.object)\n",
      " |  The :class:`Response <Response>` object, which contains a\n",
      " |  server's response to an HTTP request.\n",
      " |  \n",
      " |  Methods defined here:\n",
      " |  \n",
      " |  __bool__(self)\n",
      " |      Returns True if :attr:`status_code` is less than 400.\n",
      " |      \n",
      " |      This attribute checks if the status code of the response is between\n",
      " |      400 and 600 to see if there was a client error or a server error. If\n",
      " |      the status code, is between 200 and 400, this will return True. This\n",
      " |      is **not** a check to see if the response code is ``200 OK``.\n",
      " |  \n",
      " |  __enter__(self)\n",
      " |  \n",
      " |  __exit__(self, *args)\n",
      " |  \n",
      " |  __getstate__(self)\n",
      " |  \n",
      " |  __init__(self)\n",
      " |      Initialize self.  See help(type(self)) for accurate signature.\n",
      " |  \n",
      " |  __iter__(self)\n",
      " |      Allows you to use a response as an iterator.\n",
      " |  \n",
      " |  __nonzero__(self)\n",
      " |      Returns True if :attr:`status_code` is less than 400.\n",
      " |      \n",
      " |      This attribute checks if the status code of the response is between\n",
      " |      400 and 600 to see if there was a client error or a server error. If\n",
      " |      the status code, is between 200 and 400, this will return True. This\n",
      " |      is **not** a check to see if the response code is ``200 OK``.\n",
      " |  \n",
      " |  __repr__(self)\n",
      " |      Return repr(self).\n",
      " |  \n",
      " |  __setstate__(self, state)\n",
      " |  \n",
      " |  close(self)\n",
      " |      Releases the connection back to the pool. Once this method has been\n",
      " |      called the underlying ``raw`` object must not be accessed again.\n",
      " |      \n",
      " |      *Note: Should not normally need to be called explicitly.*\n",
      " |  \n",
      " |  iter_content(self, chunk_size=1, decode_unicode=False)\n",
      " |      Iterates over the response data.  When stream=True is set on the\n",
      " |      request, this avoids reading the content at once into memory for\n",
      " |      large responses.  The chunk size is the number of bytes it should\n",
      " |      read into memory.  This is not necessarily the length of each item\n",
      " |      returned as decoding can take place.\n",
      " |      \n",
      " |      chunk_size must be of type int or None. A value of None will\n",
      " |      function differently depending on the value of `stream`.\n",
      " |      stream=True will read data as it arrives in whatever size the\n",
      " |      chunks are received. If stream=False, data is returned as\n",
      " |      a single chunk.\n",
      " |      \n",
      " |      If decode_unicode is True, content will be decoded using the best\n",
      " |      available encoding based on the response.\n",
      " |  \n",
      " |  iter_lines(self, chunk_size=512, decode_unicode=False, delimiter=None)\n",
      " |      Iterates over the response data, one line at a time.  When\n",
      " |      stream=True is set on the request, this avoids reading the\n",
      " |      content at once into memory for large responses.\n",
      " |      \n",
      " |      .. note:: This method is not reentrant safe.\n",
      " |  \n",
      " |  json(self, **kwargs)\n",
      " |      Returns the json-encoded content of a response, if any.\n",
      " |      \n",
      " |      :param \\*\\*kwargs: Optional arguments that ``json.loads`` takes.\n",
      " |      :raises ValueError: If the response body does not contain valid json.\n",
      " |  \n",
      " |  raise_for_status(self)\n",
      " |      Raises stored :class:`HTTPError`, if one occurred.\n",
      " |  \n",
      " |  ----------------------------------------------------------------------\n",
      " |  Data descriptors defined here:\n",
      " |  \n",
      " |  __dict__\n",
      " |      dictionary for instance variables (if defined)\n",
      " |  \n",
      " |  __weakref__\n",
      " |      list of weak references to the object (if defined)\n",
      " |  \n",
      " |  apparent_encoding\n",
      " |      The apparent encoding, provided by the chardet library.\n",
      " |  \n",
      " |  content\n",
      " |      Content of the response, in bytes.\n",
      " |  \n",
      " |  is_permanent_redirect\n",
      " |      True if this Response one of the permanent versions of redirect.\n",
      " |  \n",
      " |  is_redirect\n",
      " |      True if this Response is a well-formed HTTP redirect that could have\n",
      " |      been processed automatically (by :meth:`Session.resolve_redirects`).\n",
      " |  \n",
      " |  links\n",
      " |      Returns the parsed header links of the response, if any.\n",
      " |  \n",
      " |  next\n",
      " |      Returns a PreparedRequest for the next request in a redirect chain, if there is one.\n",
      " |  \n",
      " |  ok\n",
      " |      Returns True if :attr:`status_code` is less than 400, False if not.\n",
      " |      \n",
      " |      This attribute checks if the status code of the response is between\n",
      " |      400 and 600 to see if there was a client error or a server error. If\n",
      " |      the status code is between 200 and 400, this will return True. This\n",
      " |      is **not** a check to see if the response code is ``200 OK``.\n",
      " |  \n",
      " |  text\n",
      " |      Content of the response, in unicode.\n",
      " |      \n",
      " |      If Response.encoding is None, encoding will be guessed using\n",
      " |      ``chardet``.\n",
      " |      \n",
      " |      The encoding of the response content is determined based solely on HTTP\n",
      " |      headers, following RFC 2616 to the letter. If you can take advantage of\n",
      " |      non-HTTP knowledge to make a better guess at the encoding, you should\n",
      " |      set ``r.encoding`` appropriately before accessing this property.\n",
      " |  \n",
      " |  ----------------------------------------------------------------------\n",
      " |  Data and other attributes defined here:\n",
      " |  \n",
      " |  __attrs__ = ['_content', 'status_code', 'headers', 'url', 'history', '...\n",
      "\n"
     ]
    }
   ],
   "source": [
    "help(results)"
   ]
  },
  {
   "cell_type": "raw",
   "metadata": {},
   "source": []
  }
 ],
 "metadata": {
  "kernelspec": {
   "display_name": "Python 3",
   "language": "python",
   "name": "python3"
  },
  "language_info": {
   "codemirror_mode": {
    "name": "ipython",
    "version": 3
   },
   "file_extension": ".py",
   "mimetype": "text/x-python",
   "name": "python",
   "nbconvert_exporter": "python",
   "pygments_lexer": "ipython3",
   "version": "3.7.6"
  }
 },
 "nbformat": 4,
 "nbformat_minor": 4
}

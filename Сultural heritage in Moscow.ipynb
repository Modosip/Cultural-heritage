{
 "cells": [
  {
   "cell_type": "markdown",
   "metadata": {},
   "source": [
    "# Сultural heritage in Moscow\n",
    "Мой знакомый спросил меня - как по твоему, какие районы города наиболее интересные с точки зрения объектов культурного наследия и при этом имеющин не самые высокие цены на квартиры?\n",
    "В данном проекте мы попытаемся ответить на этот вопрос: оценить и классифицировать объекты культурного наследия (далее ОКН) в г.Москве, Россия. Определим наиболее интересные районы города с точки зрения оценок пользователей сервиса Foursquare и соотнесем эти данные со средней стоимостью квартир в том или  инном районе.\n",
    "### Современная ситуация в Москве\n",
    "На территории города Москвы расположено более 7 500 объектов, находящихся под государственной охраной.\n",
    "Наибольшее число Объектов сконцентрировано в Центральном административном округе и самые высокие цены на недвижемость.\n",
    "### А знаете ли вы, что?\n",
    "На территории города Москвы расположено 3 объекта культурного наследия, включенных в Список всемирного культурного и природного наследия ЮНЕСКО:\n",
    "* Ансамбль Кремля и Красная площадь\n",
    "* Церковь Вознесения в Коломенском\n",
    "* Ансамбль Новодевичьего монастыря"
   ]
  },
  {
   "cell_type": "markdown",
   "metadata": {},
   "source": [
    "### Набор данных по ОКН находится на портале открытых данных правительства Москвы\n",
    "Набор данных \"Объекты культурного наследия города Москвы\" содержит информацию об объектах, находящихся под государственной охраной, а именно: объектах культурного наследия, включенных в единый государственный реестр объектов культурного наследия (памятников истории и культуры) народов Российской Федерации и выявленных объектах культурного наследия.\n",
    "#### Описание\n",
    "https://data.mos.ru/opendata/7705021556-obekty-kulturnogo-naslediya-i-vyyavlennye-obekty-kulturnogo-naslediya/description?versionNumber=6&releaseNumber=19\n",
    "#### Паcпорт\n",
    "https://data.mos.ru/opendata/7705021556-obekty-kulturnogo-naslediya-i-vyyavlennye-obekty-kulturnogo-naslediya/passport?versionNumber=6&releaseNumber=19\n",
    "#### Вход для разработчиков для получения ключа и чтения документации\n",
    "https://apidata.mos.ru/\n",
    "#### Структура данных\n",
    "https://data.mos.ru/apiproxy/opendata/7705021556-obekty-kulturnogo-naslediya-i-vyyavlennye-obekty-kulturnogo-naslediya/structure-20200310(vs6).json"
   ]
  },
  {
   "cell_type": "markdown",
   "metadata": {},
   "source": [
    "### Данные по стоимости недвижимости в районах"
   ]
  },
  {
   "cell_type": "code",
   "execution_count": 2,
   "metadata": {
    "scrolled": true
   },
   "outputs": [
    {
     "name": "stdout",
     "output_type": "stream",
     "text": [
      "Collecting package metadata (current_repodata.json): ...working... done\n",
      "Solving environment: ...working... done\n",
      "\n",
      "# All requested packages already installed.\n",
      "\n",
      "Done!\n"
     ]
    }
   ],
   "source": [
    "!conda install -c conda-forge folium=0.5.0 --yes\n",
    "# !conda install -c conda-forge geopy --yes\n",
    "# !conda update -n base -c defaults conda\n",
    "import pandas as pd\n",
    "import numpy as np\n",
    "pd.set_option('display.max_columns', 100)\n",
    "pd.set_option('display.max_rows',500)\n",
    "import json\n",
    "import requests #\n",
    "from pandas import json_normalize\n",
    "import matplotlib.cm as cm\n",
    "import matplotlib.colors as colors\n",
    "from sklearn.cluster import KMeans\n",
    "from geopy.geocoders import Nominatim\n",
    "import folium # map rendering library\n",
    "import lxml\n",
    "import time\n",
    "print('Done!')"
   ]
  },
  {
   "cell_type": "code",
   "execution_count": 238,
   "metadata": {},
   "outputs": [],
   "source": [
    "url='https://data.mos.ru/apiproxy/opendata/7705021556-obekty-kulturnogo-naslediya-i-vyyavlennye-obekty-kulturnogo-naslediya/structure-20200310(vs6).json'\n",
    "results = requests.get(url).json()"
   ]
  },
  {
   "cell_type": "code",
   "execution_count": 239,
   "metadata": {
    "scrolled": true
   },
   "outputs": [
    {
     "name": "stdout",
     "output_type": "stream",
     "text": [
      "{'Id': 530, 'IdentificationNumber': '7705021556-Obektykulturnogonaslediya', 'CategoryId': 5, 'CategoryCaption': 'Культура', 'DepartmentId': 7, 'DepartmentCaption': 'Департамент культурного наследия города Москвы', 'Caption': 'Объекты культурного наследия', 'Description': 'Объекты культурного наследия и выявленные объекты культурного наследия, расположенные в пределах установленных границ города Москвы.', 'FullDescription': '<p class=\"MsoNormal\"><span style=\"font-size:9.0pt;\\nfont-family:&quot;Tahoma&quot;,&quot;sans-serif&quot;\">Набор данных \"Объекты культурного\\nнаследия города Москвы\" содержит информацию об объектах, находящихся под\\nгосударственной охраной, а именно: объектах культурного наследия, включенных в\\nединый государственный реестр объектов культурного наследия (памятников истории\\nи культуры) народов Российской Федерации и выявленных объектах культурного\\nнаследия.<o:p></o:p></span></p><p class=\"MsoNormal\"><span style=\"font-size:9.0pt;\\nfont-family:&quot;Tahoma&quot;,&quot;sans-serif&quot;\">В соответствии с п. 2 ст. 20 Федерального\\nзакона от 25 июня <st1:metricconverter productid=\"2002 г\" w:st=\"on\">2002 г</st1:metricconverter>.\\n№ 73-ФЗ \"Об объектах культурного наследия (памятниках истории и культуры)\\nнародов Российской Федерации\" в каталоге представлена следующая\\nинформация: <o:p></o:p></span></p><p class=\"MsoNormal\"><span style=\"font-size:9.0pt;font-family:&quot;Tahoma&quot;,&quot;sans-serif&quot;\">сведения\\nо наименовании объекта;<o:p></o:p></span></p><p class=\"MsoNormal\"><span style=\"font-size:9.0pt;font-family:&quot;Tahoma&quot;,&quot;sans-serif&quot;\">сведения\\nо времени возникновения или дате создания объекта, датах основных изменений\\n(перестроек) данного объекта и (или) датах связанных с ним исторических\\nсобытий;<o:p></o:p></span></p><p class=\"MsoNormal\"><span style=\"font-size:9.0pt;font-family:&quot;Tahoma&quot;,&quot;sans-serif&quot;\">сведения\\nо местонахождении объекта (адрес объекта или при его отсутствии описание\\nместоположения объекта);<o:p></o:p></span></p><p class=\"MsoNormal\"><span style=\"font-size:9.0pt;font-family:&quot;Tahoma&quot;,&quot;sans-serif&quot;\">сведения о категории\\nисторико-культурного значения объекта;<o:p></o:p></span></p><p class=\"MsoNormal\"><span style=\"font-size:9.0pt;font-family:&quot;Tahoma&quot;,&quot;sans-serif&quot;\">сведения\\nо виде объекта.<o:p></o:p></span></p><p class=\"MsoNormal\"><b><span style=\"font-size:9.0pt;font-family:&quot;Tahoma&quot;,&quot;sans-serif&quot;\">Современная ситуация\\nв России<o:p></o:p></span></b></p><p class=\"MsoNormal\"><span style=\"font-size:9.0pt;font-family:&quot;Tahoma&quot;,&quot;sans-serif&quot;\">На\\nтерритории России расположено более 146 000 объектов культурного наследия.<o:p></o:p></span></p><p class=\"MsoNormal\"><b><span style=\"font-size:9.0pt;font-family:&quot;Tahoma&quot;,&quot;sans-serif&quot;\">Современная ситуация\\nв Москве<o:p></o:p></span></b></p><p class=\"MsoNormal\"><span style=\"font-size:9.0pt;font-family:&quot;Tahoma&quot;,&quot;sans-serif&quot;\">На\\nтерритории города Москвы расположено более 7 500 объектов, находящихся под\\nгосударственной охраной.<o:p></o:p></span></p><p class=\"MsoNormal\"><span style=\"font-size:9.0pt;font-family:&quot;Tahoma&quot;,&quot;sans-serif&quot;\">Наибольшее\\nчисло Объектов сконцентрировано в Центральном административном округе.<o:p></o:p></span></p><p class=\"MsoNormal\"><b><span style=\"font-size:9.0pt;font-family:&quot;Tahoma&quot;,&quot;sans-serif&quot;\">А знаете ли вы, что?<o:p></o:p></span></b></p><p class=\"MsoNormal\"><span style=\"font-size:9.0pt;font-family:&quot;Tahoma&quot;,&quot;sans-serif&quot;\">На\\nтерритории города Москвы расположено 3 объекта культурного наследия, включенных\\nв Список всемирного культурного и природного наследия ЮНЕСКО:<o:p></o:p></span></p><p class=\"MsoNormal\"><span style=\"font-size:9.0pt;font-family:&quot;Tahoma&quot;,&quot;sans-serif&quot;\">Ансамбль\\nКремля и Красная площадь;<o:p></o:p></span></p><p class=\"MsoNormal\"><span style=\"font-size:9.0pt;font-family:&quot;Tahoma&quot;,&quot;sans-serif&quot;\">Церковь\\nВознесения в Коломенском;<o:p></o:p></span></p><p class=\"MsoNormal\"><span style=\"font-size:9.0pt;font-family:&quot;Tahoma&quot;,&quot;sans-serif&quot;\">Ансамбль\\nНоводевичьего монастыря.<o:p></o:p></span></p><p class=\"MsoNormal\">\\n\\n\\n\\n\\n\\n\\n\\n\\n\\n\\n\\n\\n\\n\\n\\n\\n\\n\\n\\n\\n\\n\\n\\n\\n\\n\\n\\n\\n\\n\\n\\n\\n\\n</p><p class=\"MsoNormal\"><span style=\"font-size:9.0pt;font-family:&quot;Tahoma&quot;,&quot;sans-serif&quot;;\\nmso-fareast-font-family:&quot;Times New Roman&quot;;mso-fareast-theme-font:minor-fareast\">Материал\\nподготовлен на основе информации https://data.mos.ru, http://dkn.mos.ru<o:p></o:p></span></p>', 'Keywords': 'культура, культурное наследие, памятники архитектуры, памятник, наследие, наследия', 'ContainsGeodata': True, 'VersionNumber': '6.19', 'VersionDate': '19.05.2020', 'ItemsCount': 8317, 'Columns': [{'Name': 'ObjectNameOnDoc', 'Caption': 'Наименование объекта по документам', 'Visible': True, 'Type': 'STRING', 'SubColumns': None}, {'Name': 'ObjectName', 'Caption': 'Общепринятое наименование объекта', 'Visible': False, 'Type': 'STRING', 'SubColumns': None}, {'Name': 'EnsembleNameOnDoc', 'Caption': 'Наименование ансамбля по документам', 'Visible': True, 'Type': 'STRING', 'SubColumns': None}, {'Name': 'EnsembleName', 'Caption': 'Общепринятое наименование ансамбля', 'Visible': False, 'Type': 'STRING', 'SubColumns': None}, {'Name': 'AdmArea', 'Caption': 'Административный округ', 'Visible': True, 'Type': 'DICTIONARY', 'SubColumns': None}, {'Name': 'District', 'Caption': 'Район', 'Visible': True, 'Type': 'DICTIONARY', 'SubColumns': None}, {'Name': 'Location', 'Caption': 'Описание местоположения', 'Visible': False, 'Type': 'CATALOG', 'SubColumns': [{'Name': 'Address', 'Caption': 'Адрес/Адресный ориентир/Местоположение', 'Visible': True, 'Type': 'STRING', 'SubColumns': None}, {'Name': 'UNOM', 'Caption': 'УНОМ', 'Visible': True, 'Type': 'INTEGER', 'SubColumns': None}, {'Name': 'KAD_CC', 'Caption': 'Кадастровый номер объекта капитального строительства', 'Visible': True, 'Type': 'STRING', 'SubColumns': None}]}, {'Name': 'SecurityStatus', 'Caption': 'Охранный статус', 'Visible': True, 'Type': 'DICTIONARY', 'SubColumns': None}, {'Name': 'Category', 'Caption': 'Категория объекта', 'Visible': True, 'Type': 'DICTIONARY', 'SubColumns': None}, {'Name': 'ObjectType', 'Caption': 'Тип объекта', 'Visible': True, 'Type': 'DICTIONARY', 'SubColumns': None}, {'Name': 'AISID', 'Caption': 'Идентификатор в АИС Мосгорнаследия', 'Visible': True, 'Type': 'STRING', 'SubColumns': None}, {'Name': 'global_id', 'Caption': 'global_id', 'Visible': False, 'Type': 'NUMBER', 'SubColumns': None}, {'Name': 'geoData', 'Caption': 'Геоданные', 'Visible': False, 'Type': 'CATALOG', 'SubColumns': [{'Name': 'type', 'Caption': 'Тип', 'Visible': False, 'Type': 'STRING', 'SubColumns': None}, {'Name': 'coordinates', 'Caption': 'Координаты', 'Visible': False, 'Type': 'CATALOG', 'SubColumns': None}]}]}\n"
     ]
    }
   ],
   "source": [
    "print(results)\n",
    "# df_desc = json_normalize(results)"
   ]
  },
  {
   "cell_type": "code",
   "execution_count": 277,
   "metadata": {},
   "outputs": [
    {
     "name": "stdout",
     "output_type": "stream",
     "text": [
      "Version API is :1\n"
     ]
    }
   ],
   "source": [
    "url ='https://apidata.mos.ru/version'\n",
    "results = requests.get(url)\n",
    "if results.ok:\n",
    "    print('Version API is :{}'.format(results.json()['Version']))\n",
    "else:\n",
    "    print('\"Houston, we have a problem!\"----->', results)"
   ]
  },
  {
   "cell_type": "code",
   "execution_count": 280,
   "metadata": {},
   "outputs": [
    {
     "name": "stdout",
     "output_type": "stream",
     "text": [
      "It's all right!\n"
     ]
    }
   ],
   "source": [
    "url='https://apidata.mos.ru/v1/datasets/530/rows?api_key=21d82d2344cd3f6e9deba56e6956cffa'\n",
    "results = requests.get(url)\n",
    "if results.ok:\n",
    "    print('It\\'s all right!')\n",
    "else:\n",
    "    print('\"Houston, we have a problem!\"----->', results)"
   ]
  },
  {
   "cell_type": "code",
   "execution_count": 286,
   "metadata": {},
   "outputs": [],
   "source": [
    "results2=results.json()"
   ]
  },
  {
   "cell_type": "code",
   "execution_count": 482,
   "metadata": {},
   "outputs": [],
   "source": [
    "df=json_normalize(results2, max_level=4)"
   ]
  },
  {
   "cell_type": "code",
   "execution_count": 567,
   "metadata": {},
   "outputs": [
    {
     "name": "stdout",
     "output_type": "stream",
     "text": [
      "<class 'pandas.core.frame.DataFrame'>\n",
      "RangeIndex: 8317 entries, 0 to 8316\n",
      "Data columns (total 16 columns):\n",
      " #   Column                     Non-Null Count  Dtype \n",
      "---  ------                     --------------  ----- \n",
      " 0   global_id                  8317 non-null   int64 \n",
      " 1   Number                     8317 non-null   int64 \n",
      " 2   Cells.global_id            8317 non-null   int64 \n",
      " 3   Cells.AISID                8317 non-null   object\n",
      " 4   Cells.ObjectNameOnDoc      8317 non-null   object\n",
      " 5   Cells.ObjectName           8317 non-null   object\n",
      " 6   Cells.EnsembleNameOnDoc    8317 non-null   object\n",
      " 7   Cells.EnsembleName         8317 non-null   object\n",
      " 8   Cells.AdmArea              8317 non-null   object\n",
      " 9   Cells.District             8317 non-null   object\n",
      " 10  Cells.SecurityStatus       8317 non-null   object\n",
      " 11  Cells.Location             8317 non-null   object\n",
      " 12  Cells.Category             8317 non-null   object\n",
      " 13  Cells.ObjectType           8317 non-null   object\n",
      " 14  Cells.geoData.coordinates  8317 non-null   object\n",
      " 15  Cells.geoData.type         8317 non-null   object\n",
      "dtypes: int64(3), object(13)\n",
      "memory usage: 1.0+ MB\n"
     ]
    }
   ],
   "source": [
    "df.info()"
   ]
  },
  {
   "cell_type": "code",
   "execution_count": 604,
   "metadata": {
    "scrolled": true
   },
   "outputs": [
    {
     "data": {
      "text/plain": [
       "[{'Address': 'город Москва, Кутузовский проспект, дом 27',\n",
       "  'UNOM': 12424,\n",
       "  'KAD_CC': '77:07:0007002:5448'}]"
      ]
     },
     "execution_count": 604,
     "metadata": {},
     "output_type": "execute_result"
    }
   ],
   "source": [
    "df['Cells.Location'][9]"
   ]
  },
  {
   "cell_type": "code",
   "execution_count": 544,
   "metadata": {
    "scrolled": true
   },
   "outputs": [
    {
     "name": "stdout",
     "output_type": "stream",
     "text": [
      "{'Length': 72, 'Name': 'Достопримечательное место «Хитровка» с окружающей застройкой в составе кварталов 123, 124, 125, 126, 127', 'index': 2035}\n"
     ]
    }
   ],
   "source": [
    "a={'Length':0, 'Name':'0'}\n",
    "for index,i in enumerate(df['Cells.Location']):\n",
    "    if len(i)>a['Length']:\n",
    "        a={'Length':len(i), 'Name':df['Cells.ObjectNameOnDoc'][index], 'index':index}\n",
    "\n",
    "print(a)"
   ]
  },
  {
   "cell_type": "code",
   "execution_count": 524,
   "metadata": {},
   "outputs": [],
   "source": [
    "df.to_csv('Data.csv')"
   ]
  },
  {
   "cell_type": "code",
   "execution_count": 622,
   "metadata": {},
   "outputs": [
    {
     "name": "stdout",
     "output_type": "stream",
     "text": [
      "Your credentails:\n",
      "CLIENT_ID: HBVBLMPIT2KIUOFH3P5LBXXZBZK0XG4WDXQB34WNEHJ3YJRB\n",
      "CLIENT_SECRET:A1FGW51M2O3NWVLBQSMXMW4RJXHQY12J1IPDEYOJVUD0JNDB\n"
     ]
    }
   ],
   "source": [
    "CLIENT_ID = 'HBVBLMPIT2KIUOFH3P5LBXXZBZK0XG4WDXQB34WNEHJ3YJRB' # your Foursquare ID\n",
    "CLIENT_SECRET = 'A1FGW51M2O3NWVLBQSMXMW4RJXHQY12J1IPDEYOJVUD0JNDB' # your Foursquare Secret\n",
    "VERSION = '20180604'\n",
    "LIMIT = 5\n",
    "radius=30\n",
    "print('Your credentails:')\n",
    "print('CLIENT_ID: ' + CLIENT_ID)\n",
    "print('CLIENT_SECRET:' + CLIENT_SECRET)"
   ]
  },
  {
   "cell_type": "code",
   "execution_count": 623,
   "metadata": {},
   "outputs": [
    {
     "name": "stdout",
     "output_type": "stream",
     "text": [
      "55.7417149 37.5314882\n"
     ]
    }
   ],
   "source": [
    "address = 'город Москва, Кутузовский проспект, 27'\n",
    "geolocator = Nominatim(user_agent=\"foursquare_agent\")\n",
    "location = geolocator.geocode(address)\n",
    "latitude = location.latitude\n",
    "longitude = location.longitude\n",
    "print(latitude, longitude)"
   ]
  },
  {
   "cell_type": "code",
   "execution_count": 624,
   "metadata": {},
   "outputs": [
    {
     "name": "stdout",
     "output_type": "stream",
     "text": [
      "https://api.foursquare.com/v2/venues/explore?client_id=HBVBLMPIT2KIUOFH3P5LBXXZBZK0XG4WDXQB34WNEHJ3YJRB&client_secret=A1FGW51M2O3NWVLBQSMXMW4RJXHQY12J1IPDEYOJVUD0JNDB&v=20180604&ll=55.7417149,37.5314882&radius=30&limit=5\n"
     ]
    }
   ],
   "source": [
    "url_4sq ='https://api.foursquare.com/v2/venues/explore?client_id={}&client_secret={}&v={}&ll={},{}&radius={}&limit={}'.format(\n",
    "    CLIENT_ID, CLIENT_SECRET, VERSION, latitude, longitude,  radius, LIMIT)\n",
    "print(url_4sq)"
   ]
  },
  {
   "cell_type": "code",
   "execution_count": 625,
   "metadata": {},
   "outputs": [
    {
     "data": {
      "text/plain": [
       "1"
      ]
     },
     "execution_count": 625,
     "metadata": {},
     "output_type": "execute_result"
    }
   ],
   "source": [
    "results_4sq = requests.get(url_4sq).json()\n",
    "results_4sq['response']['totalResults']"
   ]
  },
  {
   "cell_type": "code",
   "execution_count": 626,
   "metadata": {},
   "outputs": [],
   "source": [
    "# function that extracts the category of the venue\n",
    "def get_category_type(row):\n",
    "    try:\n",
    "        categories_list = row['categories']\n",
    "    except:\n",
    "        categories_list = row['venue.categories']\n",
    "        \n",
    "    if len(categories_list) == 0:\n",
    "        return None\n",
    "    else:\n",
    "        return categories_list[0]['name']"
   ]
  },
  {
   "cell_type": "code",
   "execution_count": 627,
   "metadata": {},
   "outputs": [
    {
     "data": {
      "text/html": [
       "<div>\n",
       "<style scoped>\n",
       "    .dataframe tbody tr th:only-of-type {\n",
       "        vertical-align: middle;\n",
       "    }\n",
       "\n",
       "    .dataframe tbody tr th {\n",
       "        vertical-align: top;\n",
       "    }\n",
       "\n",
       "    .dataframe thead th {\n",
       "        text-align: right;\n",
       "    }\n",
       "</style>\n",
       "<table border=\"1\" class=\"dataframe\">\n",
       "  <thead>\n",
       "    <tr style=\"text-align: right;\">\n",
       "      <th></th>\n",
       "      <th>name</th>\n",
       "      <th>categories</th>\n",
       "      <th>lat</th>\n",
       "      <th>lng</th>\n",
       "      <th>id</th>\n",
       "    </tr>\n",
       "  </thead>\n",
       "  <tbody>\n",
       "    <tr>\n",
       "      <th>0</th>\n",
       "      <td>Банзай</td>\n",
       "      <td>Sushi Restaurant</td>\n",
       "      <td>55.74146</td>\n",
       "      <td>37.53148</td>\n",
       "      <td>5a72efbadd70c575a6690d42</td>\n",
       "    </tr>\n",
       "  </tbody>\n",
       "</table>\n",
       "</div>"
      ],
      "text/plain": [
       "     name        categories       lat       lng                        id\n",
       "0  Банзай  Sushi Restaurant  55.74146  37.53148  5a72efbadd70c575a6690d42"
      ]
     },
     "execution_count": 627,
     "metadata": {},
     "output_type": "execute_result"
    }
   ],
   "source": [
    "venues = results_4sq['response']['groups'][0]['items']\n",
    "    \n",
    "nearby_venues = json_normalize(venues) # flatten JSON\n",
    "\n",
    "# filter columns\n",
    "filtered_columns = ['venue.name', 'venue.categories', 'venue.location.lat', 'venue.location.lng','venue.id']\n",
    "nearby_venues =nearby_venues.loc[:, filtered_columns]\n",
    "\n",
    "# filter the category for each row\n",
    "nearby_venues['venue.categories'] = nearby_venues.apply(get_category_type, axis=1)\n",
    "\n",
    "# clean columns\n",
    "nearby_venues.columns = [col.split(\".\")[-1] for col in nearby_venues.columns]\n",
    "\n",
    "nearby_venues.head()"
   ]
  },
  {
   "cell_type": "code",
   "execution_count": 613,
   "metadata": {},
   "outputs": [
    {
     "data": {
      "text/plain": [
       "[{'reasons': {'count': 0,\n",
       "   'items': [{'summary': 'This spot is popular',\n",
       "     'type': 'general',\n",
       "     'reasonName': 'globalInteractionReason'}]},\n",
       "  'venue': {'id': '58b853ff9435a90a746443be',\n",
       "   'name': 'Спортзал в Sberbank Agile Home',\n",
       "   'location': {'lat': 55.74155328079935,\n",
       "    'lng': 37.53104548803705,\n",
       "    'labeledLatLngs': [{'label': 'display',\n",
       "      'lat': 55.74155328079935,\n",
       "      'lng': 37.53104548803705}],\n",
       "    'distance': 33,\n",
       "    'postalCode': '121170',\n",
       "    'cc': 'RU',\n",
       "    'city': 'Москва',\n",
       "    'state': 'Москва',\n",
       "    'country': 'Россия',\n",
       "    'formattedAddress': ['121170, Москва', 'Россия']},\n",
       "   'categories': [{'id': '4bf58dd8d48988d175941735',\n",
       "     'name': 'Gym / Fitness Center',\n",
       "     'pluralName': 'Gyms or Fitness Centers',\n",
       "     'shortName': 'Gym / Fitness',\n",
       "     'icon': {'prefix': 'https://ss3.4sqi.net/img/categories_v2/building/gym_',\n",
       "      'suffix': '.png'},\n",
       "     'primary': True}],\n",
       "   'photos': {'count': 0, 'groups': []}},\n",
       "  'referralId': 'e-0-58b853ff9435a90a746443be-0'},\n",
       " {'reasons': {'count': 0,\n",
       "   'items': [{'summary': 'This spot is popular',\n",
       "     'type': 'general',\n",
       "     'reasonName': 'globalInteractionReason'}]},\n",
       "  'venue': {'id': '5a72efbadd70c575a6690d42',\n",
       "   'name': 'Банзай',\n",
       "   'location': {'address': 'Кутузовский проспект 32, к1',\n",
       "    'lat': 55.74146,\n",
       "    'lng': 37.53148,\n",
       "    'labeledLatLngs': [{'label': 'display', 'lat': 55.74146, 'lng': 37.53148}],\n",
       "    'distance': 28,\n",
       "    'postalCode': '121170',\n",
       "    'cc': 'RU',\n",
       "    'city': 'Москва',\n",
       "    'state': 'Москва',\n",
       "    'country': 'Россия',\n",
       "    'formattedAddress': ['Кутузовский проспект 32, к1',\n",
       "     '121170, Москва',\n",
       "     'Россия']},\n",
       "   'categories': [{'id': '4bf58dd8d48988d1d2941735',\n",
       "     'name': 'Sushi Restaurant',\n",
       "     'pluralName': 'Sushi Restaurants',\n",
       "     'shortName': 'Sushi',\n",
       "     'icon': {'prefix': 'https://ss3.4sqi.net/img/categories_v2/food/sushi_',\n",
       "      'suffix': '.png'},\n",
       "     'primary': True}],\n",
       "   'photos': {'count': 0, 'groups': []}},\n",
       "  'referralId': 'e-0-5a72efbadd70c575a6690d42-1'},\n",
       " {'reasons': {'count': 0,\n",
       "   'items': [{'summary': 'This spot is popular',\n",
       "     'type': 'general',\n",
       "     'reasonName': 'globalInteractionReason'}]},\n",
       "  'venue': {'id': '5a055bb260255e656b326ec2',\n",
       "   'name': 'Headquarters! Coffee',\n",
       "   'location': {'address': '32К1 Кутузовский проспект',\n",
       "    'lat': 55.74145881671589,\n",
       "    'lng': 37.53179419724275,\n",
       "    'labeledLatLngs': [{'label': 'display',\n",
       "      'lat': 55.74145881671589,\n",
       "      'lng': 37.53179419724275}],\n",
       "    'distance': 34,\n",
       "    'postalCode': '121248',\n",
       "    'cc': 'RU',\n",
       "    'city': 'Москва',\n",
       "    'state': 'Москва',\n",
       "    'country': 'Россия',\n",
       "    'formattedAddress': ['32К1 Кутузовский проспект',\n",
       "     '121248, Москва',\n",
       "     'Россия']},\n",
       "   'categories': [{'id': '4bf58dd8d48988d1e0931735',\n",
       "     'name': 'Coffee Shop',\n",
       "     'pluralName': 'Coffee Shops',\n",
       "     'shortName': 'Coffee Shop',\n",
       "     'icon': {'prefix': 'https://ss3.4sqi.net/img/categories_v2/food/coffeeshop_',\n",
       "      'suffix': '.png'},\n",
       "     'primary': True}],\n",
       "   'photos': {'count': 0, 'groups': []}},\n",
       "  'referralId': 'e-0-5a055bb260255e656b326ec2-2'}]"
      ]
     },
     "execution_count": 613,
     "metadata": {},
     "output_type": "execute_result"
    }
   ],
   "source": [
    "venues"
   ]
  },
  {
   "cell_type": "code",
   "execution_count": null,
   "metadata": {},
   "outputs": [],
   "source": []
  }
 ],
 "metadata": {
  "kernelspec": {
   "display_name": "Python 3",
   "language": "python",
   "name": "python3"
  },
  "language_info": {
   "codemirror_mode": {
    "name": "ipython",
    "version": 3
   },
   "file_extension": ".py",
   "mimetype": "text/x-python",
   "name": "python",
   "nbconvert_exporter": "python",
   "pygments_lexer": "ipython3",
   "version": "3.7.6"
  }
 },
 "nbformat": 4,
 "nbformat_minor": 4
}

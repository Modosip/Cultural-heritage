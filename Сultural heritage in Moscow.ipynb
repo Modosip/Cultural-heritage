{
 "cells": [
  {
   "cell_type": "markdown",
   "metadata": {},
   "source": [
    "# Сultural heritage in Moscow\n",
    "Мой знакомый спросил меня - как по твоему, какие районы города наиболее интересные с точки зрения объектов культурного наследия и при этом имеющин не самые высокие цены на квартиры?\n",
    "В данном проекте мы попытаемся ответить на этот вопрос: оценить и классифицировать объекты культурного наследия (далее ОКН) в г.Москве, Россия. Определим наиболее интересные районы города с точки зрения оценок пользователей сервиса Foursquare и соотнесем эти данные со средней стоимостью квартир в том или  инном районе.\n",
    "### Современная ситуация в Москве\n",
    "На территории города Москвы расположено более 7 500 объектов, находящихся под государственной охраной.\n",
    "Наибольшее число Объектов сконцентрировано в Центральном административном округе и самые высокие цены на недвижемость.\n",
    "### А знаете ли вы, что?\n",
    "На территории города Москвы расположено 3 объекта культурного наследия, включенных в Список всемирного культурного и природного наследия ЮНЕСКО:\n",
    "* Ансамбль Кремля и Красная площадь\n",
    "* Церковь Вознесения в Коломенском\n",
    "* Ансамбль Новодевичьего монастыря"
   ]
  },
  {
   "cell_type": "markdown",
   "metadata": {},
   "source": [
    "### Набор данных по ОКН находится на портале открытых данных правительства Москвы\n",
    "Набор данных \"Объекты культурного наследия города Москвы\" содержит информацию об объектах, находящихся под государственной охраной, а именно: объектах культурного наследия, включенных в единый государственный реестр объектов культурного наследия (памятников истории и культуры) народов Российской Федерации и выявленных объектах культурного наследия.\n",
    "#### Описание\n",
    "https://data.mos.ru/opendata/7705021556-obekty-kulturnogo-naslediya-i-vyyavlennye-obekty-kulturnogo-naslediya/description?versionNumber=6&releaseNumber=19\n",
    "#### Папорт\n",
    "https://data.mos.ru/opendata/7705021556-obekty-kulturnogo-naslediya-i-vyyavlennye-obekty-kulturnogo-naslediya/passport?versionNumber=6&releaseNumber=19\n",
    "#### Вход для разработчиков для получения ключа и чтения документации\n",
    "https://apidata.mos.ru/\n",
    "#### Структура данных\n",
    "https://data.mos.ru/apiproxy/opendata/7705021556-obekty-kulturnogo-naslediya-i-vyyavlennye-obekty-kulturnogo-naslediya/structure-20200310(vs6).json"
   ]
  },
  {
   "cell_type": "markdown",
   "metadata": {},
   "source": [
    "### Данные по стоимости недвижимости в районах"
   ]
  },
  {
   "cell_type": "code",
   "execution_count": 2,
   "metadata": {
    "scrolled": true
   },
   "outputs": [
    {
     "name": "stdout",
     "output_type": "stream",
     "text": [
      "Collecting package metadata (current_repodata.json): ...working... done\n",
      "Solving environment: ...working... done\n",
      "\n",
      "# All requested packages already installed.\n",
      "\n",
      "Done!\n"
     ]
    }
   ],
   "source": [
    "!conda install -c conda-forge folium=0.5.0 --yes\n",
    "# !conda install -c conda-forge geopy --yes\n",
    "# !conda update -n base -c defaults conda\n",
    "import pandas as pd\n",
    "import numpy as np\n",
    "pd.set_option('display.max_columns', 100)\n",
    "pd.set_option('display.max_rows',500)\n",
    "import json\n",
    "import requests #\n",
    "from pandas import json_normalize\n",
    "import matplotlib.cm as cm\n",
    "import matplotlib.colors as colors\n",
    "from sklearn.cluster import KMeans\n",
    "from geopy.geocoders import Nominatim\n",
    "import folium # map rendering library\n",
    "import lxml\n",
    "import time\n",
    "print('Done!')"
   ]
  },
  {
   "cell_type": "code",
   "execution_count": 238,
   "metadata": {},
   "outputs": [],
   "source": [
    "url='https://data.mos.ru/apiproxy/opendata/7705021556-obekty-kulturnogo-naslediya-i-vyyavlennye-obekty-kulturnogo-naslediya/structure-20200310(vs6).json'\n",
    "results = requests.get(url).json()"
   ]
  },
  {
   "cell_type": "code",
   "execution_count": 239,
   "metadata": {
    "scrolled": true
   },
   "outputs": [
    {
     "name": "stdout",
     "output_type": "stream",
     "text": [
      "{'Id': 530, 'IdentificationNumber': '7705021556-Obektykulturnogonaslediya', 'CategoryId': 5, 'CategoryCaption': 'Культура', 'DepartmentId': 7, 'DepartmentCaption': 'Департамент культурного наследия города Москвы', 'Caption': 'Объекты культурного наследия', 'Description': 'Объекты культурного наследия и выявленные объекты культурного наследия, расположенные в пределах установленных границ города Москвы.', 'FullDescription': '<p class=\"MsoNormal\"><span style=\"font-size:9.0pt;\\nfont-family:&quot;Tahoma&quot;,&quot;sans-serif&quot;\">Набор данных \"Объекты культурного\\nнаследия города Москвы\" содержит информацию об объектах, находящихся под\\nгосударственной охраной, а именно: объектах культурного наследия, включенных в\\nединый государственный реестр объектов культурного наследия (памятников истории\\nи культуры) народов Российской Федерации и выявленных объектах культурного\\nнаследия.<o:p></o:p></span></p><p class=\"MsoNormal\"><span style=\"font-size:9.0pt;\\nfont-family:&quot;Tahoma&quot;,&quot;sans-serif&quot;\">В соответствии с п. 2 ст. 20 Федерального\\nзакона от 25 июня <st1:metricconverter productid=\"2002 г\" w:st=\"on\">2002 г</st1:metricconverter>.\\n№ 73-ФЗ \"Об объектах культурного наследия (памятниках истории и культуры)\\nнародов Российской Федерации\" в каталоге представлена следующая\\nинформация: <o:p></o:p></span></p><p class=\"MsoNormal\"><span style=\"font-size:9.0pt;font-family:&quot;Tahoma&quot;,&quot;sans-serif&quot;\">сведения\\nо наименовании объекта;<o:p></o:p></span></p><p class=\"MsoNormal\"><span style=\"font-size:9.0pt;font-family:&quot;Tahoma&quot;,&quot;sans-serif&quot;\">сведения\\nо времени возникновения или дате создания объекта, датах основных изменений\\n(перестроек) данного объекта и (или) датах связанных с ним исторических\\nсобытий;<o:p></o:p></span></p><p class=\"MsoNormal\"><span style=\"font-size:9.0pt;font-family:&quot;Tahoma&quot;,&quot;sans-serif&quot;\">сведения\\nо местонахождении объекта (адрес объекта или при его отсутствии описание\\nместоположения объекта);<o:p></o:p></span></p><p class=\"MsoNormal\"><span style=\"font-size:9.0pt;font-family:&quot;Tahoma&quot;,&quot;sans-serif&quot;\">сведения о категории\\nисторико-культурного значения объекта;<o:p></o:p></span></p><p class=\"MsoNormal\"><span style=\"font-size:9.0pt;font-family:&quot;Tahoma&quot;,&quot;sans-serif&quot;\">сведения\\nо виде объекта.<o:p></o:p></span></p><p class=\"MsoNormal\"><b><span style=\"font-size:9.0pt;font-family:&quot;Tahoma&quot;,&quot;sans-serif&quot;\">Современная ситуация\\nв России<o:p></o:p></span></b></p><p class=\"MsoNormal\"><span style=\"font-size:9.0pt;font-family:&quot;Tahoma&quot;,&quot;sans-serif&quot;\">На\\nтерритории России расположено более 146 000 объектов культурного наследия.<o:p></o:p></span></p><p class=\"MsoNormal\"><b><span style=\"font-size:9.0pt;font-family:&quot;Tahoma&quot;,&quot;sans-serif&quot;\">Современная ситуация\\nв Москве<o:p></o:p></span></b></p><p class=\"MsoNormal\"><span style=\"font-size:9.0pt;font-family:&quot;Tahoma&quot;,&quot;sans-serif&quot;\">На\\nтерритории города Москвы расположено более 7 500 объектов, находящихся под\\nгосударственной охраной.<o:p></o:p></span></p><p class=\"MsoNormal\"><span style=\"font-size:9.0pt;font-family:&quot;Tahoma&quot;,&quot;sans-serif&quot;\">Наибольшее\\nчисло Объектов сконцентрировано в Центральном административном округе.<o:p></o:p></span></p><p class=\"MsoNormal\"><b><span style=\"font-size:9.0pt;font-family:&quot;Tahoma&quot;,&quot;sans-serif&quot;\">А знаете ли вы, что?<o:p></o:p></span></b></p><p class=\"MsoNormal\"><span style=\"font-size:9.0pt;font-family:&quot;Tahoma&quot;,&quot;sans-serif&quot;\">На\\nтерритории города Москвы расположено 3 объекта культурного наследия, включенных\\nв Список всемирного культурного и природного наследия ЮНЕСКО:<o:p></o:p></span></p><p class=\"MsoNormal\"><span style=\"font-size:9.0pt;font-family:&quot;Tahoma&quot;,&quot;sans-serif&quot;\">Ансамбль\\nКремля и Красная площадь;<o:p></o:p></span></p><p class=\"MsoNormal\"><span style=\"font-size:9.0pt;font-family:&quot;Tahoma&quot;,&quot;sans-serif&quot;\">Церковь\\nВознесения в Коломенском;<o:p></o:p></span></p><p class=\"MsoNormal\"><span style=\"font-size:9.0pt;font-family:&quot;Tahoma&quot;,&quot;sans-serif&quot;\">Ансамбль\\nНоводевичьего монастыря.<o:p></o:p></span></p><p class=\"MsoNormal\">\\n\\n\\n\\n\\n\\n\\n\\n\\n\\n\\n\\n\\n\\n\\n\\n\\n\\n\\n\\n\\n\\n\\n\\n\\n\\n\\n\\n\\n\\n\\n\\n\\n\\n</p><p class=\"MsoNormal\"><span style=\"font-size:9.0pt;font-family:&quot;Tahoma&quot;,&quot;sans-serif&quot;;\\nmso-fareast-font-family:&quot;Times New Roman&quot;;mso-fareast-theme-font:minor-fareast\">Материал\\nподготовлен на основе информации https://data.mos.ru, http://dkn.mos.ru<o:p></o:p></span></p>', 'Keywords': 'культура, культурное наследие, памятники архитектуры, памятник, наследие, наследия', 'ContainsGeodata': True, 'VersionNumber': '6.19', 'VersionDate': '19.05.2020', 'ItemsCount': 8317, 'Columns': [{'Name': 'ObjectNameOnDoc', 'Caption': 'Наименование объекта по документам', 'Visible': True, 'Type': 'STRING', 'SubColumns': None}, {'Name': 'ObjectName', 'Caption': 'Общепринятое наименование объекта', 'Visible': False, 'Type': 'STRING', 'SubColumns': None}, {'Name': 'EnsembleNameOnDoc', 'Caption': 'Наименование ансамбля по документам', 'Visible': True, 'Type': 'STRING', 'SubColumns': None}, {'Name': 'EnsembleName', 'Caption': 'Общепринятое наименование ансамбля', 'Visible': False, 'Type': 'STRING', 'SubColumns': None}, {'Name': 'AdmArea', 'Caption': 'Административный округ', 'Visible': True, 'Type': 'DICTIONARY', 'SubColumns': None}, {'Name': 'District', 'Caption': 'Район', 'Visible': True, 'Type': 'DICTIONARY', 'SubColumns': None}, {'Name': 'Location', 'Caption': 'Описание местоположения', 'Visible': False, 'Type': 'CATALOG', 'SubColumns': [{'Name': 'Address', 'Caption': 'Адрес/Адресный ориентир/Местоположение', 'Visible': True, 'Type': 'STRING', 'SubColumns': None}, {'Name': 'UNOM', 'Caption': 'УНОМ', 'Visible': True, 'Type': 'INTEGER', 'SubColumns': None}, {'Name': 'KAD_CC', 'Caption': 'Кадастровый номер объекта капитального строительства', 'Visible': True, 'Type': 'STRING', 'SubColumns': None}]}, {'Name': 'SecurityStatus', 'Caption': 'Охранный статус', 'Visible': True, 'Type': 'DICTIONARY', 'SubColumns': None}, {'Name': 'Category', 'Caption': 'Категория объекта', 'Visible': True, 'Type': 'DICTIONARY', 'SubColumns': None}, {'Name': 'ObjectType', 'Caption': 'Тип объекта', 'Visible': True, 'Type': 'DICTIONARY', 'SubColumns': None}, {'Name': 'AISID', 'Caption': 'Идентификатор в АИС Мосгорнаследия', 'Visible': True, 'Type': 'STRING', 'SubColumns': None}, {'Name': 'global_id', 'Caption': 'global_id', 'Visible': False, 'Type': 'NUMBER', 'SubColumns': None}, {'Name': 'geoData', 'Caption': 'Геоданные', 'Visible': False, 'Type': 'CATALOG', 'SubColumns': [{'Name': 'type', 'Caption': 'Тип', 'Visible': False, 'Type': 'STRING', 'SubColumns': None}, {'Name': 'coordinates', 'Caption': 'Координаты', 'Visible': False, 'Type': 'CATALOG', 'SubColumns': None}]}]}\n"
     ]
    }
   ],
   "source": [
    "print(results)\n",
    "# df_desc = json_normalize(results)"
   ]
  },
  {
   "cell_type": "code",
   "execution_count": 240,
   "metadata": {},
   "outputs": [
    {
     "data": {
      "text/html": [
       "<div>\n",
       "<style scoped>\n",
       "    .dataframe tbody tr th:only-of-type {\n",
       "        vertical-align: middle;\n",
       "    }\n",
       "\n",
       "    .dataframe tbody tr th {\n",
       "        vertical-align: top;\n",
       "    }\n",
       "\n",
       "    .dataframe thead th {\n",
       "        text-align: right;\n",
       "    }\n",
       "</style>\n",
       "<table border=\"1\" class=\"dataframe\">\n",
       "  <thead>\n",
       "    <tr style=\"text-align: right;\">\n",
       "      <th></th>\n",
       "      <th>Id</th>\n",
       "      <th>IdentificationNumber</th>\n",
       "      <th>CategoryId</th>\n",
       "      <th>CategoryCaption</th>\n",
       "      <th>DepartmentId</th>\n",
       "      <th>DepartmentCaption</th>\n",
       "      <th>Caption</th>\n",
       "      <th>Description</th>\n",
       "      <th>FullDescription</th>\n",
       "      <th>Keywords</th>\n",
       "      <th>ContainsGeodata</th>\n",
       "      <th>VersionNumber</th>\n",
       "      <th>VersionDate</th>\n",
       "      <th>ItemsCount</th>\n",
       "      <th>Columns</th>\n",
       "    </tr>\n",
       "  </thead>\n",
       "  <tbody>\n",
       "    <tr>\n",
       "      <th>0</th>\n",
       "      <td>530</td>\n",
       "      <td>7705021556-Obektykulturnogonaslediya</td>\n",
       "      <td>5</td>\n",
       "      <td>Культура</td>\n",
       "      <td>7</td>\n",
       "      <td>Департамент культурного наследия города Москвы</td>\n",
       "      <td>Объекты культурного наследия</td>\n",
       "      <td>Объекты культурного наследия и выявленные объе...</td>\n",
       "      <td>&lt;p class=\"MsoNormal\"&gt;&lt;span style=\"font-size:9....</td>\n",
       "      <td>культура, культурное наследие, памятники архит...</td>\n",
       "      <td>True</td>\n",
       "      <td>6.19</td>\n",
       "      <td>19.05.2020</td>\n",
       "      <td>8317</td>\n",
       "      <td>[{'Name': 'ObjectNameOnDoc', 'Caption': 'Наиме...</td>\n",
       "    </tr>\n",
       "  </tbody>\n",
       "</table>\n",
       "</div>"
      ],
      "text/plain": [
       "    Id                  IdentificationNumber  CategoryId CategoryCaption  \\\n",
       "0  530  7705021556-Obektykulturnogonaslediya           5        Культура   \n",
       "\n",
       "   DepartmentId                               DepartmentCaption  \\\n",
       "0             7  Департамент культурного наследия города Москвы   \n",
       "\n",
       "                        Caption  \\\n",
       "0  Объекты культурного наследия   \n",
       "\n",
       "                                         Description  \\\n",
       "0  Объекты культурного наследия и выявленные объе...   \n",
       "\n",
       "                                     FullDescription  \\\n",
       "0  <p class=\"MsoNormal\"><span style=\"font-size:9....   \n",
       "\n",
       "                                            Keywords  ContainsGeodata  \\\n",
       "0  культура, культурное наследие, памятники архит...             True   \n",
       "\n",
       "  VersionNumber VersionDate  ItemsCount  \\\n",
       "0          6.19  19.05.2020        8317   \n",
       "\n",
       "                                             Columns  \n",
       "0  [{'Name': 'ObjectNameOnDoc', 'Caption': 'Наиме...  "
      ]
     },
     "execution_count": 240,
     "metadata": {},
     "output_type": "execute_result"
    }
   ],
   "source": [
    "json_normalize(results,max_level=20)"
   ]
  },
  {
   "cell_type": "code",
   "execution_count": 245,
   "metadata": {},
   "outputs": [
    {
     "name": "stdout",
     "output_type": "stream",
     "text": [
      "Version API is :1\n"
     ]
    }
   ],
   "source": [
    "url ='https://apidata.mos.ru/version'\n",
    "results = requests.get(url)\n",
    "if results.ok:\n",
    "    print('Version API is :{}'.format(results.json()['Version']))\n",
    "else:\n",
    "    print('\"Houston, we have a problem!\"----->', results)"
   ]
  },
  {
   "cell_type": "code",
   "execution_count": null,
   "metadata": {},
   "outputs": [],
   "source": [
    "url='https://apidata.mos.ru/v1/datasets/530/rows?api_key=21d82d2344cd3f6e9deba56e6956cffa'\n",
    "results = requests.get(url)\n",
    "if results.ok:\n",
    "    print('What we got: \\n{}'.format(results.json()))\n",
    "else:\n",
    "    print('\"Houston, we have a problem!\"----->', results)"
   ]
  },
  {
   "cell_type": "code",
   "execution_count": 264,
   "metadata": {},
   "outputs": [
    {
     "ename": "TypeError",
     "evalue": "'Response' object is not subscriptable",
     "output_type": "error",
     "traceback": [
      "\u001b[1;31m---------------------------------------------------------------------------\u001b[0m",
      "\u001b[1;31mTypeError\u001b[0m                                 Traceback (most recent call last)",
      "\u001b[1;32m<ipython-input-264-75481efcb1bd>\u001b[0m in \u001b[0;36m<module>\u001b[1;34m\u001b[0m\n\u001b[1;32m----> 1\u001b[1;33m \u001b[0mresults\u001b[0m\u001b[1;33m[\u001b[0m\u001b[1;34m'Id'\u001b[0m\u001b[1;33m]\u001b[0m\u001b[1;33m\u001b[0m\u001b[1;33m\u001b[0m\u001b[0m\n\u001b[0m",
      "\u001b[1;31mTypeError\u001b[0m: 'Response' object is not subscriptable"
     ]
    }
   ],
   "source": [
    "results['Id']"
   ]
  },
  {
   "cell_type": "code",
   "execution_count": null,
   "metadata": {},
   "outputs": [],
   "source": []
  }
 ],
 "metadata": {
  "kernelspec": {
   "display_name": "Python 3",
   "language": "python",
   "name": "python3"
  },
  "language_info": {
   "codemirror_mode": {
    "name": "ipython",
    "version": 3
   },
   "file_extension": ".py",
   "mimetype": "text/x-python",
   "name": "python",
   "nbconvert_exporter": "python",
   "pygments_lexer": "ipython3",
   "version": "3.7.6"
  }
 },
 "nbformat": 4,
 "nbformat_minor": 4
}

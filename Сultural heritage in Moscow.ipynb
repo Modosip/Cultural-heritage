{
 "cells": [
  {
   "cell_type": "markdown",
   "metadata": {},
   "source": [
    "# Сultural heritage in Moscow\n",
    "Мой знакомый спросил меня - как по твоему, какие районы города наиболее интересные с точки зрения объектов культурного наследия и при этом имеющин не самые высокие цены на квартиры?\n",
    "В данном проекте мы попытаемся ответить на этот вопрос: оценить и классифицировать объекты культурного наследия (далее ОКН) в г.Москве, Россия. Определим наиболее интересные районы города с точки зрения оценок пользователей сервиса Foursquare и соотнесем эти данные со средней стоимостью квартир в том или  инном районе.\n",
    "### Современная ситуация в Москве\n",
    "На территории города Москвы расположено более 7 500 объектов, находящихся под государственной охраной.\n",
    "Наибольшее число Объектов сконцентрировано в Центральном административном округе и самые высокие цены на недвижемость.\n",
    "### А знаете ли вы, что?\n",
    "На территории города Москвы расположено 3 объекта культурного наследия, включенных в Список всемирного культурного и природного наследия ЮНЕСКО:\n",
    "* Ансамбль Кремля и Красная площадь\n",
    "* Церковь Вознесения в Коломенском\n",
    "* Ансамбль Новодевичьего монастыря"
   ]
  },
  {
   "cell_type": "markdown",
   "metadata": {},
   "source": [
    "### Набор данных по ОКН находится на портале открытых данных правительства Москвы\n",
    "Набор данных \"Объекты культурного наследия города Москвы\" содержит информацию об объектах, находящихся под государственной охраной, а именно: объектах культурного наследия, включенных в единый государственный реестр объектов культурного наследия (памятников истории и культуры) народов Российской Федерации и выявленных объектах культурного наследия.\n",
    "#### Описание\n",
    "https://data.mos.ru/opendata/7705021556-obekty-kulturnogo-naslediya-i-vyyavlennye-obekty-kulturnogo-naslediya/description?versionNumber=6&releaseNumber=19\n",
    "#### Паcпорт\n",
    "https://data.mos.ru/opendata/7705021556-obekty-kulturnogo-naslediya-i-vyyavlennye-obekty-kulturnogo-naslediya/passport?versionNumber=6&releaseNumber=19\n",
    "#### Вход для разработчиков для получения ключа и чтения документации\n",
    "https://apidata.mos.ru/\n",
    "#### Структура данных\n",
    "https://data.mos.ru/apiproxy/opendata/7705021556-obekty-kulturnogo-naslediya-i-vyyavlennye-obekty-kulturnogo-naslediya/structure-20200310(vs6).json"
   ]
  },
  {
   "cell_type": "markdown",
   "metadata": {},
   "source": [
    "### Данные по стоимости недвижимости в районах"
   ]
  },
  {
   "cell_type": "code",
   "execution_count": 1,
   "metadata": {
    "scrolled": false
   },
   "outputs": [
    {
     "name": "stdout",
     "output_type": "stream",
     "text": [
      "Done!\n"
     ]
    }
   ],
   "source": [
    "# !conda install -c conda-forge folium=0.5.0 --yes\n",
    "# !conda install -c conda-forge geopy --yes\n",
    "\n",
    "import pandas as pd\n",
    "import numpy as np\n",
    "pd.set_option('display.max_columns', 100)\n",
    "pd.set_option('display.max_rows',500)\n",
    "import json\n",
    "import requests #\n",
    "from pandas import json_normalize\n",
    "import matplotlib.cm as cm\n",
    "import matplotlib.colors as colors\n",
    "from sklearn.cluster import KMeans\n",
    "from geopy.geocoders import Nominatim\n",
    "import folium # map rendering library\n",
    "import lxml\n",
    "import time\n",
    "print('Done!')"
   ]
  },
  {
   "cell_type": "code",
   "execution_count": 2,
   "metadata": {},
   "outputs": [],
   "source": [
    "url='https://data.mos.ru/apiproxy/opendata/7705021556-obekty-kulturnogo-naslediya-i-vyyavlennye-obekty-kulturnogo-naslediya/structure-20200310(vs6).json'\n",
    "results = requests.get(url).json()"
   ]
  },
  {
   "cell_type": "code",
   "execution_count": 3,
   "metadata": {},
   "outputs": [
    {
     "name": "stdout",
     "output_type": "stream",
     "text": [
      "Version API is :1\n"
     ]
    }
   ],
   "source": [
    "url ='https://apidata.mos.ru/version'\n",
    "results = requests.get(url)\n",
    "if results.ok:\n",
    "    print('Version API is :{}'.format(results.json()['Version']))\n",
    "else:\n",
    "    print('\"Houston, we have a problem!\"----->', results)"
   ]
  },
  {
   "cell_type": "code",
   "execution_count": 277,
   "metadata": {},
   "outputs": [
    {
     "name": "stdout",
     "output_type": "stream",
     "text": [
      "Get datas from online\n",
      "It's all right! (8317, 16)\n"
     ]
    }
   ],
   "source": [
    "url='https://apidata.mos.ru/v1/datasets/530/rows?api_key=21d82d2344cd3f6e9deba56e6956cffa'\n",
    "results = requests.get(url)\n",
    "if results.ok:\n",
    "    if results.json() == []: # Problem with data from server\n",
    "        print('Problem with Dataset Online \\nGet datas from offline')\n",
    "        with open(\"Data.json\", \"r\",encoding='utf-8') as read_file:\n",
    "            df = json_normalize(json.load(read_file))\n",
    "        print('It\\'s all right!', df.shape)\n",
    "    else:\n",
    "        print('Get datas from online')\n",
    "        df=json_normalize(results.json())\n",
    "        # Rename columns as in offline file\n",
    "        for i in df:\n",
    "            df.rename(columns={i:i.replace('Cells.','')}, inplace=True)\n",
    "        print('It\\'s all right!', df.shape)\n",
    "else:\n",
    "    print('\"Houston, we have a problem with server!\"----->', results)\n",
    "    # initialisation POI coordinate Series  "
   ]
  },
  {
   "cell_type": "code",
   "execution_count": 348,
   "metadata": {},
   "outputs": [],
   "source": [
    "df2=df.copy()"
   ]
  },
  {
   "cell_type": "code",
   "execution_count": null,
   "metadata": {},
   "outputs": [],
   "source": [
    "!conda install geopandas\n",
    "import geopandas as gpd\n",
    "gdf=gpd.GeoDataFrame.from_features(results)"
   ]
  },
  {
   "cell_type": "code",
   "execution_count": null,
   "metadata": {},
   "outputs": [],
   "source": [
    "# get \n",
    "columns=['Lattitude','Longtitude']\n",
    "new_df=pd.DataFrame(columns=columns)\n",
    "for i in range(df.shape[0]):\n",
    "    if df['geoData.type'][i]=='Polygon':\n",
    "        new_df=new_df.append({'Lattitude':df['geoData.coordinates'][i][0][0][1],\n",
    "                       'Longtitude':df['geoData.coordinates'][i][0][0][0]}, ignore_index=True)\n",
    "    elif df['geoData.type'][i]=='MultiPolygon':\n",
    "        new_df=new_df.append({'Lattitude':df['geoData.coordinates'][i][0][0][0][1],\n",
    "                       'Longtitude':df['geoData.coordinates'][i][0][0][0][0]}, ignore_index=True)\n",
    "    else:\n",
    "        new_df=new_df.append({'Lattitude':df['geoData.coordinates'][i][1],\n",
    "                       'Longtitude':df['geoData.coordinates'][i][0]}, ignore_index=True)\n",
    "df[['Lattitude','Longtitude']]=new_df        "
   ]
  },
  {
   "cell_type": "code",
   "execution_count": 93,
   "metadata": {
    "scrolled": true
   },
   "outputs": [
    {
     "name": "stdout",
     "output_type": "stream",
     "text": [
      "{'Length': 116, 'Name': 'Архитектурно-планировочный комплекс поселка «Сокол»', 'index': 7215}\n"
     ]
    }
   ],
   "source": [
    "a={'Length':0, 'Name':'0'}\n",
    "for index,i in enumerate(df['geoData.coordinates']):\n",
    "    if len(i)>a['Length']:\n",
    "        a={'Length':len(i), 'Name':df['ObjectNameOnDoc'][index], 'index':index}\n",
    "\n",
    "print(a)"
   ]
  },
  {
   "cell_type": "markdown",
   "metadata": {},
   "source": [
    "## MAPING"
   ]
  },
  {
   "cell_type": "code",
   "execution_count": 62,
   "metadata": {},
   "outputs": [
    {
     "name": "stdout",
     "output_type": "stream",
     "text": [
      "55.7504461 37.6174943\n"
     ]
    }
   ],
   "source": [
    "address = 'Moscow, Russia'\n",
    "geolocator = Nominatim(user_agent=\"Moscow\")\n",
    "location = geolocator.geocode(address)\n",
    "latitude,longitude = location.latitude,location.longitude\n",
    "print(latitude,longitude)"
   ]
  },
  {
   "cell_type": "code",
   "execution_count": 367,
   "metadata": {},
   "outputs": [],
   "source": [
    "df.ObjectNameOnDoc.encoding='UTF-8'"
   ]
  },
  {
   "cell_type": "code",
   "execution_count": 368,
   "metadata": {
    "scrolled": true
   },
   "outputs": [
    {
     "data": {
      "text/html": [
       "<div>\n",
       "<style scoped>\n",
       "    .dataframe tbody tr th:only-of-type {\n",
       "        vertical-align: middle;\n",
       "    }\n",
       "\n",
       "    .dataframe tbody tr th {\n",
       "        vertical-align: top;\n",
       "    }\n",
       "\n",
       "    .dataframe thead th {\n",
       "        text-align: right;\n",
       "    }\n",
       "</style>\n",
       "<table border=\"1\" class=\"dataframe\">\n",
       "  <thead>\n",
       "    <tr style=\"text-align: right;\">\n",
       "      <th></th>\n",
       "      <th>global_id</th>\n",
       "      <th>Number</th>\n",
       "      <th>global_id</th>\n",
       "      <th>AISID</th>\n",
       "      <th>ObjectNameOnDoc</th>\n",
       "      <th>ObjectName</th>\n",
       "      <th>EnsembleNameOnDoc</th>\n",
       "      <th>EnsembleName</th>\n",
       "      <th>AdmArea</th>\n",
       "      <th>District</th>\n",
       "      <th>SecurityStatus</th>\n",
       "      <th>Location</th>\n",
       "      <th>Category</th>\n",
       "      <th>ObjectType</th>\n",
       "      <th>geoData.coordinates</th>\n",
       "      <th>geoData.type</th>\n",
       "      <th>Lattitude</th>\n",
       "      <th>Longtitude</th>\n",
       "    </tr>\n",
       "  </thead>\n",
       "  <tbody>\n",
       "    <tr>\n",
       "      <th>0</th>\n",
       "      <td>2949468</td>\n",
       "      <td>1</td>\n",
       "      <td>2949468</td>\n",
       "      <td>b249eae3-56f9-11e2-965f-005056806bb6</td>\n",
       "      <td>- «Назаровская» башня, 1895 г., арх. К.М.Быков...</td>\n",
       "      <td></td>\n",
       "      <td>Обсерватория Московского университета</td>\n",
       "      <td></td>\n",
       "      <td>Центральный административный округ</td>\n",
       "      <td>Пресненский район</td>\n",
       "      <td>объект культурного наследия</td>\n",
       "      <td>[{'Address': 'город Москва, Нововаганьковский ...</td>\n",
       "      <td>регионального значения</td>\n",
       "      <td>Сооружение</td>\n",
       "      <td>[[[37.5689238433351, 55.7581989700618], [37.56...</td>\n",
       "      <td>Polygon</td>\n",
       "      <td>55.758199</td>\n",
       "      <td>37.568924</td>\n",
       "    </tr>\n",
       "    <tr>\n",
       "      <th>1</th>\n",
       "      <td>2949513</td>\n",
       "      <td>2</td>\n",
       "      <td>2949513</td>\n",
       "      <td>6c9899b0-5533-11e4-9457-005056806bb6</td>\n",
       "      <td>- Жилой дом, 1908 г.</td>\n",
       "      <td></td>\n",
       "      <td>Жилые дома, 2-я половина XIX - начало XX вв.</td>\n",
       "      <td></td>\n",
       "      <td>Центральный административный округ</td>\n",
       "      <td>район Замоскворечье</td>\n",
       "      <td>выявленный объект культурного наследия</td>\n",
       "      <td>[{'Address': 'город Москва, улица Малая Ордынк...</td>\n",
       "      <td>категория не устанавливается</td>\n",
       "      <td>Здание</td>\n",
       "      <td>[[[37.6258150552159, 55.7388775898882], [37.62...</td>\n",
       "      <td>Polygon</td>\n",
       "      <td>55.738878</td>\n",
       "      <td>37.625815</td>\n",
       "    </tr>\n",
       "    <tr>\n",
       "      <th>2</th>\n",
       "      <td>2949522</td>\n",
       "      <td>3</td>\n",
       "      <td>2949522</td>\n",
       "      <td>ff74c6e7-56f8-11e2-965f-005056806bb6</td>\n",
       "      <td>- Флигель</td>\n",
       "      <td></td>\n",
       "      <td>Службы городской усадьбы, XVIII - нач. XIX вв.</td>\n",
       "      <td></td>\n",
       "      <td>Центральный административный округ</td>\n",
       "      <td>Басманный район</td>\n",
       "      <td>объект культурного наследия</td>\n",
       "      <td>[{'Address': 'город Москва, Токмаков переулок,...</td>\n",
       "      <td>регионального значения</td>\n",
       "      <td>Здание</td>\n",
       "      <td>[[[37.6708611603683, 55.7658349153926], [37.67...</td>\n",
       "      <td>Polygon</td>\n",
       "      <td>55.765835</td>\n",
       "      <td>37.670861</td>\n",
       "    </tr>\n",
       "    <tr>\n",
       "      <th>3</th>\n",
       "      <td>2949524</td>\n",
       "      <td>4</td>\n",
       "      <td>2949524</td>\n",
       "      <td>ff74c6ef-56f8-11e2-965f-005056806bb6</td>\n",
       "      <td>- Храм во имя св. блг. князя Александра Невско...</td>\n",
       "      <td></td>\n",
       "      <td>Ансамбль Екатерининской больницы у Петровских ...</td>\n",
       "      <td></td>\n",
       "      <td>Центральный административный округ</td>\n",
       "      <td>Тверской район</td>\n",
       "      <td>выявленный объект культурного наследия</td>\n",
       "      <td>[{'Address': 'город Москва, Страстной бульвар,...</td>\n",
       "      <td>категория не устанавливается</td>\n",
       "      <td>Здание</td>\n",
       "      <td>[[[37.610360655548, 55.7689052229478], [37.610...</td>\n",
       "      <td>Polygon</td>\n",
       "      <td>55.768905</td>\n",
       "      <td>37.610361</td>\n",
       "    </tr>\n",
       "    <tr>\n",
       "      <th>4</th>\n",
       "      <td>2949525</td>\n",
       "      <td>5</td>\n",
       "      <td>2949525</td>\n",
       "      <td>ff74c6f1-56f8-11e2-965f-005056806bb6</td>\n",
       "      <td>Евангелическая больница для оказания помощи бе...</td>\n",
       "      <td></td>\n",
       "      <td></td>\n",
       "      <td></td>\n",
       "      <td>Центральный административный округ</td>\n",
       "      <td>Таганский район</td>\n",
       "      <td>выявленный объект культурного наследия</td>\n",
       "      <td>[{'Address': 'город Москва, переулок Обуха, до...</td>\n",
       "      <td>категория не устанавливается</td>\n",
       "      <td>Здание</td>\n",
       "      <td>[[[37.6541484601168, 55.7531461667182], [37.65...</td>\n",
       "      <td>Polygon</td>\n",
       "      <td>55.753146</td>\n",
       "      <td>37.654148</td>\n",
       "    </tr>\n",
       "  </tbody>\n",
       "</table>\n",
       "</div>"
      ],
      "text/plain": [
       "   global_id  Number  global_id                                 AISID  \\\n",
       "0    2949468       1    2949468  b249eae3-56f9-11e2-965f-005056806bb6   \n",
       "1    2949513       2    2949513  6c9899b0-5533-11e4-9457-005056806bb6   \n",
       "2    2949522       3    2949522  ff74c6e7-56f8-11e2-965f-005056806bb6   \n",
       "3    2949524       4    2949524  ff74c6ef-56f8-11e2-965f-005056806bb6   \n",
       "4    2949525       5    2949525  ff74c6f1-56f8-11e2-965f-005056806bb6   \n",
       "\n",
       "                                     ObjectNameOnDoc ObjectName  \\\n",
       "0  - «Назаровская» башня, 1895 г., арх. К.М.Быков...              \n",
       "1                               - Жилой дом, 1908 г.              \n",
       "2                                          - Флигель              \n",
       "3  - Храм во имя св. блг. князя Александра Невско...              \n",
       "4  Евангелическая больница для оказания помощи бе...              \n",
       "\n",
       "                                   EnsembleNameOnDoc EnsembleName  \\\n",
       "0              Обсерватория Московского университета                \n",
       "1       Жилые дома, 2-я половина XIX - начало XX вв.                \n",
       "2     Службы городской усадьбы, XVIII - нач. XIX вв.                \n",
       "3  Ансамбль Екатерининской больницы у Петровских ...                \n",
       "4                                                                   \n",
       "\n",
       "                              AdmArea             District  \\\n",
       "0  Центральный административный округ    Пресненский район   \n",
       "1  Центральный административный округ  район Замоскворечье   \n",
       "2  Центральный административный округ      Басманный район   \n",
       "3  Центральный административный округ       Тверской район   \n",
       "4  Центральный административный округ      Таганский район   \n",
       "\n",
       "                           SecurityStatus  \\\n",
       "0             объект культурного наследия   \n",
       "1  выявленный объект культурного наследия   \n",
       "2             объект культурного наследия   \n",
       "3  выявленный объект культурного наследия   \n",
       "4  выявленный объект культурного наследия   \n",
       "\n",
       "                                            Location  \\\n",
       "0  [{'Address': 'город Москва, Нововаганьковский ...   \n",
       "1  [{'Address': 'город Москва, улица Малая Ордынк...   \n",
       "2  [{'Address': 'город Москва, Токмаков переулок,...   \n",
       "3  [{'Address': 'город Москва, Страстной бульвар,...   \n",
       "4  [{'Address': 'город Москва, переулок Обуха, до...   \n",
       "\n",
       "                       Category  ObjectType  \\\n",
       "0        регионального значения  Сооружение   \n",
       "1  категория не устанавливается      Здание   \n",
       "2        регионального значения      Здание   \n",
       "3  категория не устанавливается      Здание   \n",
       "4  категория не устанавливается      Здание   \n",
       "\n",
       "                                 geoData.coordinates geoData.type  Lattitude  \\\n",
       "0  [[[37.5689238433351, 55.7581989700618], [37.56...      Polygon  55.758199   \n",
       "1  [[[37.6258150552159, 55.7388775898882], [37.62...      Polygon  55.738878   \n",
       "2  [[[37.6708611603683, 55.7658349153926], [37.67...      Polygon  55.765835   \n",
       "3  [[[37.610360655548, 55.7689052229478], [37.610...      Polygon  55.768905   \n",
       "4  [[[37.6541484601168, 55.7531461667182], [37.65...      Polygon  55.753146   \n",
       "\n",
       "   Longtitude  \n",
       "0   37.568924  \n",
       "1   37.625815  \n",
       "2   37.670861  \n",
       "3   37.610361  \n",
       "4   37.654148  "
      ]
     },
     "execution_count": 368,
     "metadata": {},
     "output_type": "execute_result"
    }
   ],
   "source": [
    "df.head()"
   ]
  },
  {
   "cell_type": "code",
   "execution_count": 375,
   "metadata": {
    "scrolled": true
   },
   "outputs": [
    {
     "data": {
      "text/html": [
       "<div style=\"width:100%;\"><div style=\"position:relative;width:100%;height:0;padding-bottom:60%;\"><span style=\"color:#565656\">Make this Notebook Trusted to load map: File -> Trust Notebook</span><iframe src=\"about:blank\" style=\"position:absolute;width:100%;height:100%;left:0;top:0;border:none !important;\" data-html=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 onload=\"this.contentDocument.open();this.contentDocument.write(atob(this.getAttribute('data-html')));this.contentDocument.close();\" allowfullscreen webkitallowfullscreen mozallowfullscreen></iframe></div></div>"
      ],
      "text/plain": [
       "<folium.folium.Map at 0x22c2c97c248>"
      ]
     },
     "execution_count": 375,
     "metadata": {},
     "output_type": "execute_result"
    }
   ],
   "source": [
    "Moscow_map=folium.Map(location=[latitude, longitude], zoom_start=10, tiles='OpenStreetMap')\n",
    "for i in range(df.shape[0]-8300):\n",
    "    label = '{}'.format(df.ObjectNameOnDoc[i])\n",
    "    label = folium.Popup(label, parse_html=True)\n",
    "#     popup = df.ObjectNameOnDoc[i]\n",
    "    latitude = df.Lattitude[i]\n",
    "    longtitude = df.Longtitude[i]\n",
    "    folium.Marker((latitude,longitude), popup=label, icon=folium.Icon(color='gray')).add_to(Moscow_map)\n",
    "Moscow_map    "
   ]
  },
  {
   "cell_type": "code",
   "execution_count": 392,
   "metadata": {},
   "outputs": [
    {
     "ename": "AttributeError",
     "evalue": "module 'folium' has no attribute 'vector_layers'",
     "output_type": "error",
     "traceback": [
      "\u001b[1;31m---------------------------------------------------------------------------\u001b[0m",
      "\u001b[1;31mAttributeError\u001b[0m                            Traceback (most recent call last)",
      "\u001b[1;32m<ipython-input-392-aaba2f16b273>\u001b[0m in \u001b[0;36m<module>\u001b[1;34m\u001b[0m\n\u001b[1;32m----> 1\u001b[1;33m \u001b[0mfolium\u001b[0m\u001b[1;33m.\u001b[0m\u001b[0mvector_layers\u001b[0m\u001b[1;33m.\u001b[0m\u001b[0mPolygon\u001b[0m\u001b[1;33m(\u001b[0m\u001b[1;33m(\u001b[0m\u001b[0mgeoData\u001b[0m\u001b[1;33m.\u001b[0m\u001b[0mcoordinates\u001b[0m\u001b[1;33m[\u001b[0m\u001b[1;36m0\u001b[0m\u001b[1;33m]\u001b[0m\u001b[1;33m)\u001b[0m\u001b[1;33m,\u001b[0m  \u001b[0micon\u001b[0m\u001b[1;33m=\u001b[0m\u001b[0mfolium\u001b[0m\u001b[1;33m.\u001b[0m\u001b[0mIcon\u001b[0m\u001b[1;33m(\u001b[0m\u001b[0mcolor\u001b[0m\u001b[1;33m=\u001b[0m\u001b[1;34m'gray'\u001b[0m\u001b[1;33m)\u001b[0m\u001b[1;33m)\u001b[0m\u001b[1;33m.\u001b[0m\u001b[0madd_to\u001b[0m\u001b[1;33m(\u001b[0m\u001b[0mMoscow_map\u001b[0m\u001b[1;33m)\u001b[0m\u001b[1;33m\u001b[0m\u001b[1;33m\u001b[0m\u001b[0m\n\u001b[0m\u001b[0;32m      2\u001b[0m \u001b[0mMoscow_map\u001b[0m\u001b[1;33m\u001b[0m\u001b[1;33m\u001b[0m\u001b[0m\n",
      "\u001b[1;31mAttributeError\u001b[0m: module 'folium' has no attribute 'vector_layers'"
     ]
    }
   ],
   "source": [
    "folium.vector_layers.Polygon((df.geoData.coordinates[0]),  icon=folium.Icon(color='gray')).add_to(Moscow_map)\n",
    "Moscow_map"
   ]
  },
  {
   "cell_type": "code",
   "execution_count": 388,
   "metadata": {},
   "outputs": [
    {
     "data": {
      "text/plain": [
       "[37.5689238433351, 55.7581989700618]"
      ]
     },
     "execution_count": 388,
     "metadata": {},
     "output_type": "execute_result"
    }
   ],
   "source": [
    "df['geoData.coordinates'][0][0][0]"
   ]
  },
  {
   "cell_type": "code",
   "execution_count": 353,
   "metadata": {},
   "outputs": [
    {
     "data": {
      "text/html": [
       "<div style=\"width:100%;\"><div style=\"position:relative;width:100%;height:0;padding-bottom:60%;\"><span style=\"color:#565656\">Make this Notebook Trusted to load map: File -> Trust Notebook</span><iframe src=\"about:blank\" style=\"position:absolute;width:100%;height:100%;left:0;top:0;border:none !important;\" data-html=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 onload=\"this.contentDocument.open();this.contentDocument.write(atob(this.getAttribute('data-html')));this.contentDocument.close();\" allowfullscreen webkitallowfullscreen mozallowfullscreen></iframe></div></div>"
      ],
      "text/plain": [
       "<folium.folium.Map at 0x22c336babc8>"
      ]
     },
     "execution_count": 353,
     "metadata": {},
     "output_type": "execute_result"
    }
   ],
   "source": [
    "Moscow_map=folium.Map(location=[latitude, longitude], zoom_start=10, tiles='Stamen Terrain')\n",
    "folium.Marker((latitude,longitude), popup='<i>Moscow</i>', icon=folium.Icon(color='gray')).add_to(Moscow_map)\n",
    "Moscow_map"
   ]
  },
  {
   "cell_type": "code",
   "execution_count": 622,
   "metadata": {},
   "outputs": [
    {
     "name": "stdout",
     "output_type": "stream",
     "text": [
      "Your credentails:\n",
      "CLIENT_ID: HBVBLMPIT2KIUOFH3P5LBXXZBZK0XG4WDXQB34WNEHJ3YJRB\n",
      "CLIENT_SECRET:A1FGW51M2O3NWVLBQSMXMW4RJXHQY12J1IPDEYOJVUD0JNDB\n"
     ]
    }
   ],
   "source": [
    "CLIENT_ID = 'HBVBLMPIT2KIUOFH3P5LBXXZBZK0XG4WDXQB34WNEHJ3YJRB' # your Foursquare ID\n",
    "CLIENT_SECRET = 'A1FGW51M2O3NWVLBQSMXMW4RJXHQY12J1IPDEYOJVUD0JNDB' # your Foursquare Secret\n",
    "VERSION = '20180604'\n",
    "LIMIT = 5\n",
    "radius=30\n",
    "print('Your credentails:')\n",
    "print('CLIENT_ID: ' + CLIENT_ID)\n",
    "print('CLIENT_SECRET:' + CLIENT_SECRET)"
   ]
  },
  {
   "cell_type": "code",
   "execution_count": null,
   "metadata": {},
   "outputs": [],
   "source": []
  },
  {
   "cell_type": "code",
   "execution_count": 623,
   "metadata": {},
   "outputs": [
    {
     "name": "stdout",
     "output_type": "stream",
     "text": [
      "55.7417149 37.5314882\n"
     ]
    }
   ],
   "source": [
    "address = 'город Москва, Кутузовский проспект, 27'\n",
    "geolocator = Nominatim(user_agent=\"foursquare_agent\")\n",
    "location = geolocator.geocode(address)\n",
    "latitude = location.latitude\n",
    "longitude = location.longitude\n",
    "print(latitude, longitude)"
   ]
  },
  {
   "cell_type": "code",
   "execution_count": 624,
   "metadata": {},
   "outputs": [
    {
     "name": "stdout",
     "output_type": "stream",
     "text": [
      "https://api.foursquare.com/v2/venues/explore?client_id=HBVBLMPIT2KIUOFH3P5LBXXZBZK0XG4WDXQB34WNEHJ3YJRB&client_secret=A1FGW51M2O3NWVLBQSMXMW4RJXHQY12J1IPDEYOJVUD0JNDB&v=20180604&ll=55.7417149,37.5314882&radius=30&limit=5\n"
     ]
    }
   ],
   "source": [
    "url_4sq ='https://api.foursquare.com/v2/venues/explore?client_id={}&client_secret={}&v={}&ll={},{}&radius={}&limit={}'.format(\n",
    "    CLIENT_ID, CLIENT_SECRET, VERSION, latitude, longitude,  radius, LIMIT)\n",
    "print(url_4sq)"
   ]
  },
  {
   "cell_type": "code",
   "execution_count": 625,
   "metadata": {},
   "outputs": [
    {
     "data": {
      "text/plain": [
       "1"
      ]
     },
     "execution_count": 625,
     "metadata": {},
     "output_type": "execute_result"
    }
   ],
   "source": [
    "results_4sq = requests.get(url_4sq).json()\n",
    "results_4sq['response']['totalResults']"
   ]
  },
  {
   "cell_type": "code",
   "execution_count": 626,
   "metadata": {},
   "outputs": [],
   "source": [
    "# function that extracts the category of the venue\n",
    "def get_category_type(row):\n",
    "    try:\n",
    "        categories_list = row['categories']\n",
    "    except:\n",
    "        categories_list = row['venue.categories']\n",
    "        \n",
    "    if len(categories_list) == 0:\n",
    "        return None\n",
    "    else:\n",
    "        return categories_list[0]['name']"
   ]
  },
  {
   "cell_type": "code",
   "execution_count": 627,
   "metadata": {},
   "outputs": [
    {
     "data": {
      "text/html": [
       "<div>\n",
       "<style scoped>\n",
       "    .dataframe tbody tr th:only-of-type {\n",
       "        vertical-align: middle;\n",
       "    }\n",
       "\n",
       "    .dataframe tbody tr th {\n",
       "        vertical-align: top;\n",
       "    }\n",
       "\n",
       "    .dataframe thead th {\n",
       "        text-align: right;\n",
       "    }\n",
       "</style>\n",
       "<table border=\"1\" class=\"dataframe\">\n",
       "  <thead>\n",
       "    <tr style=\"text-align: right;\">\n",
       "      <th></th>\n",
       "      <th>name</th>\n",
       "      <th>categories</th>\n",
       "      <th>lat</th>\n",
       "      <th>lng</th>\n",
       "      <th>id</th>\n",
       "    </tr>\n",
       "  </thead>\n",
       "  <tbody>\n",
       "    <tr>\n",
       "      <th>0</th>\n",
       "      <td>Банзай</td>\n",
       "      <td>Sushi Restaurant</td>\n",
       "      <td>55.74146</td>\n",
       "      <td>37.53148</td>\n",
       "      <td>5a72efbadd70c575a6690d42</td>\n",
       "    </tr>\n",
       "  </tbody>\n",
       "</table>\n",
       "</div>"
      ],
      "text/plain": [
       "     name        categories       lat       lng                        id\n",
       "0  Банзай  Sushi Restaurant  55.74146  37.53148  5a72efbadd70c575a6690d42"
      ]
     },
     "execution_count": 627,
     "metadata": {},
     "output_type": "execute_result"
    }
   ],
   "source": [
    "venues = results_4sq['response']['groups'][0]['items']\n",
    "    \n",
    "nearby_venues = json_normalize(venues) # flatten JSON\n",
    "\n",
    "# filter columns\n",
    "filtered_columns = ['venue.name', 'venue.categories', 'venue.location.lat', 'venue.location.lng','venue.id']\n",
    "nearby_venues =nearby_venues.loc[:, filtered_columns]\n",
    "\n",
    "# filter the category for each row\n",
    "nearby_venues['venue.categories'] = nearby_venues.apply(get_category_type, axis=1)\n",
    "\n",
    "# clean columns\n",
    "nearby_venues.columns = [col.split(\".\")[-1] for col in nearby_venues.columns]\n",
    "\n",
    "nearby_venues.head()"
   ]
  },
  {
   "cell_type": "code",
   "execution_count": 613,
   "metadata": {},
   "outputs": [
    {
     "data": {
      "text/plain": [
       "[{'reasons': {'count': 0,\n",
       "   'items': [{'summary': 'This spot is popular',\n",
       "     'type': 'general',\n",
       "     'reasonName': 'globalInteractionReason'}]},\n",
       "  'venue': {'id': '58b853ff9435a90a746443be',\n",
       "   'name': 'Спортзал в Sberbank Agile Home',\n",
       "   'location': {'lat': 55.74155328079935,\n",
       "    'lng': 37.53104548803705,\n",
       "    'labeledLatLngs': [{'label': 'display',\n",
       "      'lat': 55.74155328079935,\n",
       "      'lng': 37.53104548803705}],\n",
       "    'distance': 33,\n",
       "    'postalCode': '121170',\n",
       "    'cc': 'RU',\n",
       "    'city': 'Москва',\n",
       "    'state': 'Москва',\n",
       "    'country': 'Россия',\n",
       "    'formattedAddress': ['121170, Москва', 'Россия']},\n",
       "   'categories': [{'id': '4bf58dd8d48988d175941735',\n",
       "     'name': 'Gym / Fitness Center',\n",
       "     'pluralName': 'Gyms or Fitness Centers',\n",
       "     'shortName': 'Gym / Fitness',\n",
       "     'icon': {'prefix': 'https://ss3.4sqi.net/img/categories_v2/building/gym_',\n",
       "      'suffix': '.png'},\n",
       "     'primary': True}],\n",
       "   'photos': {'count': 0, 'groups': []}},\n",
       "  'referralId': 'e-0-58b853ff9435a90a746443be-0'},\n",
       " {'reasons': {'count': 0,\n",
       "   'items': [{'summary': 'This spot is popular',\n",
       "     'type': 'general',\n",
       "     'reasonName': 'globalInteractionReason'}]},\n",
       "  'venue': {'id': '5a72efbadd70c575a6690d42',\n",
       "   'name': 'Банзай',\n",
       "   'location': {'address': 'Кутузовский проспект 32, к1',\n",
       "    'lat': 55.74146,\n",
       "    'lng': 37.53148,\n",
       "    'labeledLatLngs': [{'label': 'display', 'lat': 55.74146, 'lng': 37.53148}],\n",
       "    'distance': 28,\n",
       "    'postalCode': '121170',\n",
       "    'cc': 'RU',\n",
       "    'city': 'Москва',\n",
       "    'state': 'Москва',\n",
       "    'country': 'Россия',\n",
       "    'formattedAddress': ['Кутузовский проспект 32, к1',\n",
       "     '121170, Москва',\n",
       "     'Россия']},\n",
       "   'categories': [{'id': '4bf58dd8d48988d1d2941735',\n",
       "     'name': 'Sushi Restaurant',\n",
       "     'pluralName': 'Sushi Restaurants',\n",
       "     'shortName': 'Sushi',\n",
       "     'icon': {'prefix': 'https://ss3.4sqi.net/img/categories_v2/food/sushi_',\n",
       "      'suffix': '.png'},\n",
       "     'primary': True}],\n",
       "   'photos': {'count': 0, 'groups': []}},\n",
       "  'referralId': 'e-0-5a72efbadd70c575a6690d42-1'},\n",
       " {'reasons': {'count': 0,\n",
       "   'items': [{'summary': 'This spot is popular',\n",
       "     'type': 'general',\n",
       "     'reasonName': 'globalInteractionReason'}]},\n",
       "  'venue': {'id': '5a055bb260255e656b326ec2',\n",
       "   'name': 'Headquarters! Coffee',\n",
       "   'location': {'address': '32К1 Кутузовский проспект',\n",
       "    'lat': 55.74145881671589,\n",
       "    'lng': 37.53179419724275,\n",
       "    'labeledLatLngs': [{'label': 'display',\n",
       "      'lat': 55.74145881671589,\n",
       "      'lng': 37.53179419724275}],\n",
       "    'distance': 34,\n",
       "    'postalCode': '121248',\n",
       "    'cc': 'RU',\n",
       "    'city': 'Москва',\n",
       "    'state': 'Москва',\n",
       "    'country': 'Россия',\n",
       "    'formattedAddress': ['32К1 Кутузовский проспект',\n",
       "     '121248, Москва',\n",
       "     'Россия']},\n",
       "   'categories': [{'id': '4bf58dd8d48988d1e0931735',\n",
       "     'name': 'Coffee Shop',\n",
       "     'pluralName': 'Coffee Shops',\n",
       "     'shortName': 'Coffee Shop',\n",
       "     'icon': {'prefix': 'https://ss3.4sqi.net/img/categories_v2/food/coffeeshop_',\n",
       "      'suffix': '.png'},\n",
       "     'primary': True}],\n",
       "   'photos': {'count': 0, 'groups': []}},\n",
       "  'referralId': 'e-0-5a055bb260255e656b326ec2-2'}]"
      ]
     },
     "execution_count": 613,
     "metadata": {},
     "output_type": "execute_result"
    }
   ],
   "source": [
    "venues"
   ]
  },
  {
   "cell_type": "code",
   "execution_count": null,
   "metadata": {},
   "outputs": [],
   "source": []
  }
 ],
 "metadata": {
  "kernelspec": {
   "display_name": "Python 3",
   "language": "python",
   "name": "python3"
  },
  "language_info": {
   "codemirror_mode": {
    "name": "ipython",
    "version": 3
   },
   "file_extension": ".py",
   "mimetype": "text/x-python",
   "name": "python",
   "nbconvert_exporter": "python",
   "pygments_lexer": "ipython3",
   "version": "3.7.6"
  }
 },
 "nbformat": 4,
 "nbformat_minor": 4
}
